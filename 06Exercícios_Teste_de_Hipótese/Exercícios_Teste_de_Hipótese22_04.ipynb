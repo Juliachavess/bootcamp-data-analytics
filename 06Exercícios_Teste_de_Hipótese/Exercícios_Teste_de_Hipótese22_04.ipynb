{
  "nbformat": 4,
  "nbformat_minor": 0,
  "metadata": {
    "colab": {
      "provenance": []
    },
    "kernelspec": {
      "name": "python3",
      "display_name": "Python 3"
    },
    "language_info": {
      "name": "python"
    }
  },
  "cells": [
    {
      "cell_type": "code",
      "source": [
        "import numpy as np\n",
        "import pandas as pd\n",
        "\n",
        "import scipy.stats as stats\n",
        "from scipy import stats\n",
        "from scipy.stats import f_oneway\n",
        "from scipy.stats import chi2_contingency\n",
        "from scipy.stats import pearsonr\n",
        "from scipy.stats import t\n",
        "from scipy.stats import kstest, norm"
      ],
      "metadata": {
        "id": "sbgIYKxteJVo"
      },
      "execution_count": 44,
      "outputs": []
    },
    {
      "cell_type": "code",
      "source": [
        "df_testeab = pd.read_csv('experimento_teste_ab.csv')\n",
        "df_testeab.head()"
      ],
      "metadata": {
        "colab": {
          "base_uri": "https://localhost:8080/",
          "height": 206
        },
        "id": "67BIkZqmeS2Z",
        "outputId": "4f04dd01-20da-4444-aaaa-8c8b9cd89b1a"
      },
      "execution_count": 2,
      "outputs": [
        {
          "output_type": "execute_result",
          "data": {
            "text/plain": [
              "   Visitante_ID Versão_Página  Visualizações  Conversões\n",
              "0             1             A            167           1\n",
              "1             2             A            160           0\n",
              "2             3             A            170           0\n",
              "3             4             A            161           1\n",
              "4             5             A            104           0"
            ],
            "text/html": [
              "\n",
              "  <div id=\"df-ebff9237-56b5-44f8-91cf-f94325c2d463\" class=\"colab-df-container\">\n",
              "    <div>\n",
              "<style scoped>\n",
              "    .dataframe tbody tr th:only-of-type {\n",
              "        vertical-align: middle;\n",
              "    }\n",
              "\n",
              "    .dataframe tbody tr th {\n",
              "        vertical-align: top;\n",
              "    }\n",
              "\n",
              "    .dataframe thead th {\n",
              "        text-align: right;\n",
              "    }\n",
              "</style>\n",
              "<table border=\"1\" class=\"dataframe\">\n",
              "  <thead>\n",
              "    <tr style=\"text-align: right;\">\n",
              "      <th></th>\n",
              "      <th>Visitante_ID</th>\n",
              "      <th>Versão_Página</th>\n",
              "      <th>Visualizações</th>\n",
              "      <th>Conversões</th>\n",
              "    </tr>\n",
              "  </thead>\n",
              "  <tbody>\n",
              "    <tr>\n",
              "      <th>0</th>\n",
              "      <td>1</td>\n",
              "      <td>A</td>\n",
              "      <td>167</td>\n",
              "      <td>1</td>\n",
              "    </tr>\n",
              "    <tr>\n",
              "      <th>1</th>\n",
              "      <td>2</td>\n",
              "      <td>A</td>\n",
              "      <td>160</td>\n",
              "      <td>0</td>\n",
              "    </tr>\n",
              "    <tr>\n",
              "      <th>2</th>\n",
              "      <td>3</td>\n",
              "      <td>A</td>\n",
              "      <td>170</td>\n",
              "      <td>0</td>\n",
              "    </tr>\n",
              "    <tr>\n",
              "      <th>3</th>\n",
              "      <td>4</td>\n",
              "      <td>A</td>\n",
              "      <td>161</td>\n",
              "      <td>1</td>\n",
              "    </tr>\n",
              "    <tr>\n",
              "      <th>4</th>\n",
              "      <td>5</td>\n",
              "      <td>A</td>\n",
              "      <td>104</td>\n",
              "      <td>0</td>\n",
              "    </tr>\n",
              "  </tbody>\n",
              "</table>\n",
              "</div>\n",
              "    <div class=\"colab-df-buttons\">\n",
              "\n",
              "  <div class=\"colab-df-container\">\n",
              "    <button class=\"colab-df-convert\" onclick=\"convertToInteractive('df-ebff9237-56b5-44f8-91cf-f94325c2d463')\"\n",
              "            title=\"Convert this dataframe to an interactive table.\"\n",
              "            style=\"display:none;\">\n",
              "\n",
              "  <svg xmlns=\"http://www.w3.org/2000/svg\" height=\"24px\" viewBox=\"0 -960 960 960\">\n",
              "    <path d=\"M120-120v-720h720v720H120Zm60-500h600v-160H180v160Zm220 220h160v-160H400v160Zm0 220h160v-160H400v160ZM180-400h160v-160H180v160Zm440 0h160v-160H620v160ZM180-180h160v-160H180v160Zm440 0h160v-160H620v160Z\"/>\n",
              "  </svg>\n",
              "    </button>\n",
              "\n",
              "  <style>\n",
              "    .colab-df-container {\n",
              "      display:flex;\n",
              "      gap: 12px;\n",
              "    }\n",
              "\n",
              "    .colab-df-convert {\n",
              "      background-color: #E8F0FE;\n",
              "      border: none;\n",
              "      border-radius: 50%;\n",
              "      cursor: pointer;\n",
              "      display: none;\n",
              "      fill: #1967D2;\n",
              "      height: 32px;\n",
              "      padding: 0 0 0 0;\n",
              "      width: 32px;\n",
              "    }\n",
              "\n",
              "    .colab-df-convert:hover {\n",
              "      background-color: #E2EBFA;\n",
              "      box-shadow: 0px 1px 2px rgba(60, 64, 67, 0.3), 0px 1px 3px 1px rgba(60, 64, 67, 0.15);\n",
              "      fill: #174EA6;\n",
              "    }\n",
              "\n",
              "    .colab-df-buttons div {\n",
              "      margin-bottom: 4px;\n",
              "    }\n",
              "\n",
              "    [theme=dark] .colab-df-convert {\n",
              "      background-color: #3B4455;\n",
              "      fill: #D2E3FC;\n",
              "    }\n",
              "\n",
              "    [theme=dark] .colab-df-convert:hover {\n",
              "      background-color: #434B5C;\n",
              "      box-shadow: 0px 1px 3px 1px rgba(0, 0, 0, 0.15);\n",
              "      filter: drop-shadow(0px 1px 2px rgba(0, 0, 0, 0.3));\n",
              "      fill: #FFFFFF;\n",
              "    }\n",
              "  </style>\n",
              "\n",
              "    <script>\n",
              "      const buttonEl =\n",
              "        document.querySelector('#df-ebff9237-56b5-44f8-91cf-f94325c2d463 button.colab-df-convert');\n",
              "      buttonEl.style.display =\n",
              "        google.colab.kernel.accessAllowed ? 'block' : 'none';\n",
              "\n",
              "      async function convertToInteractive(key) {\n",
              "        const element = document.querySelector('#df-ebff9237-56b5-44f8-91cf-f94325c2d463');\n",
              "        const dataTable =\n",
              "          await google.colab.kernel.invokeFunction('convertToInteractive',\n",
              "                                                    [key], {});\n",
              "        if (!dataTable) return;\n",
              "\n",
              "        const docLinkHtml = 'Like what you see? Visit the ' +\n",
              "          '<a target=\"_blank\" href=https://colab.research.google.com/notebooks/data_table.ipynb>data table notebook</a>'\n",
              "          + ' to learn more about interactive tables.';\n",
              "        element.innerHTML = '';\n",
              "        dataTable['output_type'] = 'display_data';\n",
              "        await google.colab.output.renderOutput(dataTable, element);\n",
              "        const docLink = document.createElement('div');\n",
              "        docLink.innerHTML = docLinkHtml;\n",
              "        element.appendChild(docLink);\n",
              "      }\n",
              "    </script>\n",
              "  </div>\n",
              "\n",
              "\n",
              "<div id=\"df-8202eb81-3008-44ea-b584-cd20a67a189e\">\n",
              "  <button class=\"colab-df-quickchart\" onclick=\"quickchart('df-8202eb81-3008-44ea-b584-cd20a67a189e')\"\n",
              "            title=\"Suggest charts\"\n",
              "            style=\"display:none;\">\n",
              "\n",
              "<svg xmlns=\"http://www.w3.org/2000/svg\" height=\"24px\"viewBox=\"0 0 24 24\"\n",
              "     width=\"24px\">\n",
              "    <g>\n",
              "        <path d=\"M19 3H5c-1.1 0-2 .9-2 2v14c0 1.1.9 2 2 2h14c1.1 0 2-.9 2-2V5c0-1.1-.9-2-2-2zM9 17H7v-7h2v7zm4 0h-2V7h2v10zm4 0h-2v-4h2v4z\"/>\n",
              "    </g>\n",
              "</svg>\n",
              "  </button>\n",
              "\n",
              "<style>\n",
              "  .colab-df-quickchart {\n",
              "      --bg-color: #E8F0FE;\n",
              "      --fill-color: #1967D2;\n",
              "      --hover-bg-color: #E2EBFA;\n",
              "      --hover-fill-color: #174EA6;\n",
              "      --disabled-fill-color: #AAA;\n",
              "      --disabled-bg-color: #DDD;\n",
              "  }\n",
              "\n",
              "  [theme=dark] .colab-df-quickchart {\n",
              "      --bg-color: #3B4455;\n",
              "      --fill-color: #D2E3FC;\n",
              "      --hover-bg-color: #434B5C;\n",
              "      --hover-fill-color: #FFFFFF;\n",
              "      --disabled-bg-color: #3B4455;\n",
              "      --disabled-fill-color: #666;\n",
              "  }\n",
              "\n",
              "  .colab-df-quickchart {\n",
              "    background-color: var(--bg-color);\n",
              "    border: none;\n",
              "    border-radius: 50%;\n",
              "    cursor: pointer;\n",
              "    display: none;\n",
              "    fill: var(--fill-color);\n",
              "    height: 32px;\n",
              "    padding: 0;\n",
              "    width: 32px;\n",
              "  }\n",
              "\n",
              "  .colab-df-quickchart:hover {\n",
              "    background-color: var(--hover-bg-color);\n",
              "    box-shadow: 0 1px 2px rgba(60, 64, 67, 0.3), 0 1px 3px 1px rgba(60, 64, 67, 0.15);\n",
              "    fill: var(--button-hover-fill-color);\n",
              "  }\n",
              "\n",
              "  .colab-df-quickchart-complete:disabled,\n",
              "  .colab-df-quickchart-complete:disabled:hover {\n",
              "    background-color: var(--disabled-bg-color);\n",
              "    fill: var(--disabled-fill-color);\n",
              "    box-shadow: none;\n",
              "  }\n",
              "\n",
              "  .colab-df-spinner {\n",
              "    border: 2px solid var(--fill-color);\n",
              "    border-color: transparent;\n",
              "    border-bottom-color: var(--fill-color);\n",
              "    animation:\n",
              "      spin 1s steps(1) infinite;\n",
              "  }\n",
              "\n",
              "  @keyframes spin {\n",
              "    0% {\n",
              "      border-color: transparent;\n",
              "      border-bottom-color: var(--fill-color);\n",
              "      border-left-color: var(--fill-color);\n",
              "    }\n",
              "    20% {\n",
              "      border-color: transparent;\n",
              "      border-left-color: var(--fill-color);\n",
              "      border-top-color: var(--fill-color);\n",
              "    }\n",
              "    30% {\n",
              "      border-color: transparent;\n",
              "      border-left-color: var(--fill-color);\n",
              "      border-top-color: var(--fill-color);\n",
              "      border-right-color: var(--fill-color);\n",
              "    }\n",
              "    40% {\n",
              "      border-color: transparent;\n",
              "      border-right-color: var(--fill-color);\n",
              "      border-top-color: var(--fill-color);\n",
              "    }\n",
              "    60% {\n",
              "      border-color: transparent;\n",
              "      border-right-color: var(--fill-color);\n",
              "    }\n",
              "    80% {\n",
              "      border-color: transparent;\n",
              "      border-right-color: var(--fill-color);\n",
              "      border-bottom-color: var(--fill-color);\n",
              "    }\n",
              "    90% {\n",
              "      border-color: transparent;\n",
              "      border-bottom-color: var(--fill-color);\n",
              "    }\n",
              "  }\n",
              "</style>\n",
              "\n",
              "  <script>\n",
              "    async function quickchart(key) {\n",
              "      const quickchartButtonEl =\n",
              "        document.querySelector('#' + key + ' button');\n",
              "      quickchartButtonEl.disabled = true;  // To prevent multiple clicks.\n",
              "      quickchartButtonEl.classList.add('colab-df-spinner');\n",
              "      try {\n",
              "        const charts = await google.colab.kernel.invokeFunction(\n",
              "            'suggestCharts', [key], {});\n",
              "      } catch (error) {\n",
              "        console.error('Error during call to suggestCharts:', error);\n",
              "      }\n",
              "      quickchartButtonEl.classList.remove('colab-df-spinner');\n",
              "      quickchartButtonEl.classList.add('colab-df-quickchart-complete');\n",
              "    }\n",
              "    (() => {\n",
              "      let quickchartButtonEl =\n",
              "        document.querySelector('#df-8202eb81-3008-44ea-b584-cd20a67a189e button');\n",
              "      quickchartButtonEl.style.display =\n",
              "        google.colab.kernel.accessAllowed ? 'block' : 'none';\n",
              "    })();\n",
              "  </script>\n",
              "</div>\n",
              "\n",
              "    </div>\n",
              "  </div>\n"
            ],
            "application/vnd.google.colaboratory.intrinsic+json": {
              "type": "dataframe",
              "variable_name": "df_testeab",
              "summary": "{\n  \"name\": \"df_testeab\",\n  \"rows\": 2000,\n  \"fields\": [\n    {\n      \"column\": \"Visitante_ID\",\n      \"properties\": {\n        \"dtype\": \"number\",\n        \"std\": 577,\n        \"min\": 1,\n        \"max\": 2000,\n        \"num_unique_values\": 2000,\n        \"samples\": [\n          1861,\n          354,\n          1334\n        ],\n        \"semantic_type\": \"\",\n        \"description\": \"\"\n      }\n    },\n    {\n      \"column\": \"Vers\\u00e3o_P\\u00e1gina\",\n      \"properties\": {\n        \"dtype\": \"category\",\n        \"num_unique_values\": 2,\n        \"samples\": [\n          \"B\",\n          \"A\"\n        ],\n        \"semantic_type\": \"\",\n        \"description\": \"\"\n      }\n    },\n    {\n      \"column\": \"Visualiza\\u00e7\\u00f5es\",\n      \"properties\": {\n        \"dtype\": \"number\",\n        \"std\": 28,\n        \"min\": 100,\n        \"max\": 199,\n        \"num_unique_values\": 100,\n        \"samples\": [\n          192,\n          107\n        ],\n        \"semantic_type\": \"\",\n        \"description\": \"\"\n      }\n    },\n    {\n      \"column\": \"Convers\\u00f5es\",\n      \"properties\": {\n        \"dtype\": \"number\",\n        \"std\": 0,\n        \"min\": 0,\n        \"max\": 1,\n        \"num_unique_values\": 2,\n        \"samples\": [\n          0,\n          1\n        ],\n        \"semantic_type\": \"\",\n        \"description\": \"\"\n      }\n    }\n  ]\n}"
            }
          },
          "metadata": {},
          "execution_count": 2
        }
      ]
    },
    {
      "cell_type": "code",
      "source": [
        "df_testeab.shape"
      ],
      "metadata": {
        "colab": {
          "base_uri": "https://localhost:8080/"
        },
        "id": "Bb3VL-Ywfweu",
        "outputId": "108e9a57-29d9-4603-a41c-eaca6e0418a7"
      },
      "execution_count": 3,
      "outputs": [
        {
          "output_type": "execute_result",
          "data": {
            "text/plain": [
              "(2000, 4)"
            ]
          },
          "metadata": {},
          "execution_count": 3
        }
      ]
    },
    {
      "cell_type": "code",
      "source": [
        "df_testeab.info()"
      ],
      "metadata": {
        "colab": {
          "base_uri": "https://localhost:8080/"
        },
        "id": "0Ch_ksT5f2qX",
        "outputId": "2c3a1c11-39f7-4c65-d5c3-cc99375e4715"
      },
      "execution_count": 4,
      "outputs": [
        {
          "output_type": "stream",
          "name": "stdout",
          "text": [
            "<class 'pandas.core.frame.DataFrame'>\n",
            "RangeIndex: 2000 entries, 0 to 1999\n",
            "Data columns (total 4 columns):\n",
            " #   Column         Non-Null Count  Dtype \n",
            "---  ------         --------------  ----- \n",
            " 0   Visitante_ID   2000 non-null   int64 \n",
            " 1   Versão_Página  2000 non-null   object\n",
            " 2   Visualizações  2000 non-null   int64 \n",
            " 3   Conversões     2000 non-null   int64 \n",
            "dtypes: int64(3), object(1)\n",
            "memory usage: 62.6+ KB\n"
          ]
        }
      ]
    },
    {
      "cell_type": "code",
      "source": [
        "valores_versao_pagina = df_testeab['Versão_Página'].unique()\n",
        "valores_versao_pagina\n"
      ],
      "metadata": {
        "colab": {
          "base_uri": "https://localhost:8080/"
        },
        "id": "qrACBOdCfjwd",
        "outputId": "c7585f23-fe9b-4e58-e3d4-07edeaa80240"
      },
      "execution_count": 5,
      "outputs": [
        {
          "output_type": "execute_result",
          "data": {
            "text/plain": [
              "array(['A', 'B'], dtype=object)"
            ]
          },
          "metadata": {},
          "execution_count": 5
        }
      ]
    },
    {
      "cell_type": "markdown",
      "source": [
        "Considerando a base de dados experimento_test_ab.csv responda as\n",
        "questões abaixo:\n",
        "1. Qual dos cenários tem a maior taxa de conversão?"
      ],
      "metadata": {
        "id": "EwASv-6SdjB2"
      }
    },
    {
      "cell_type": "code",
      "execution_count": 6,
      "metadata": {
        "colab": {
          "base_uri": "https://localhost:8080/"
        },
        "id": "LO8CIWwHda8b",
        "outputId": "ec8baa6a-c388-47b4-ded5-4dd9462923e6"
      },
      "outputs": [
        {
          "output_type": "stream",
          "name": "stdout",
          "text": [
            "               Conversões  Visualizações  Taxa_Conversão\n",
            "Versão_Página                                           \n",
            "A                     105         150835        0.000696\n",
            "B                     125         150676        0.000830\n"
          ]
        }
      ],
      "source": [
        "# Calculando a taxa de conversão para cada versão da página\n",
        "taxa_conversao_por_versao = df_testeab.groupby(\"Versão_Página\").agg({\n",
        "    \"Conversões\": \"sum\",\n",
        "    \"Visualizações\": \"sum\"\n",
        "})\n",
        "taxa_conversao_por_versao[\"Taxa_Conversão\"] = taxa_conversao_por_versao[\"Conversões\"] / taxa_conversao_por_versao[\"Visualizações\"]\n",
        "\n",
        "print(taxa_conversao_por_versao)"
      ]
    },
    {
      "cell_type": "markdown",
      "source": [
        "Resposta: O Cenário B tem uma maior taxa de conversão."
      ],
      "metadata": {
        "id": "ZrHnvio6gDUu"
      }
    },
    {
      "cell_type": "markdown",
      "source": [
        "2. Calcule qual o tamanho da amostra necessária para o desenvolvimento\n",
        "de um teste A/B, seguindo os seguintes critérios:\n",
        "\n",
        "a. O cenário A, da base, como o inicial, que funciona hoje.\n",
        "\n",
        "b. Considere 95% de confiança de que o efeito na conversão não foi\n",
        "aleatório com um nível de significância de 5% (alpha = 0,05).\n",
        "\n",
        "c. Também considere 80% de certeza conseguir capturar o efeito\n",
        "da nova abordagem.\n",
        "\n",
        "d. O aumento para 10% de conversão"
      ],
      "metadata": {
        "id": "VYRq4jPsdlA9"
      }
    },
    {
      "cell_type": "code",
      "source": [
        "# Parâmetros\n",
        "alpha = 0.05\n",
        "confianca = 1 - alpha\n",
        "poder = 0.80\n",
        "taxa_conversao_A = 0.10\n",
        "efeito_minimo_detectavel = 0.10\n",
        "\n",
        "# Valor crítico para o nível de significância alpha\n",
        "z_alpha_2 = stats.norm.ppf(1 - alpha/2)\n",
        "\n",
        "# Valor crítico para o poder do teste\n",
        "z_beta = stats.norm.ppf(poder)\n",
        "\n",
        "# Cálculo do tamanho da amostra necessário por grupo\n",
        "n = (2 * (z_alpha_2 + z_beta)**2 * taxa_conversao_A * (1 - taxa_conversao_A)) / efeito_minimo_detectavel**2\n",
        "\n",
        "# Arredondando para o próximo número inteiro\n",
        "tamanho_amostra = round(n)\n",
        "\n",
        "print(\"Tamanho da amostra necessário por grupo:\", tamanho_amostra)\n"
      ],
      "metadata": {
        "colab": {
          "base_uri": "https://localhost:8080/"
        },
        "id": "e67uAylVdncl",
        "outputId": "c5eb7c06-3bd9-4e39-ba40-83751bc10c79"
      },
      "execution_count": 7,
      "outputs": [
        {
          "output_type": "stream",
          "name": "stdout",
          "text": [
            "Tamanho da amostra necessário por grupo: 141\n"
          ]
        }
      ]
    },
    {
      "cell_type": "markdown",
      "source": [
        "Verifique a base pacientes.csv, os dados são fictícios. A sintetiza uma base\n",
        "de dados de um hospital que trata de pacientes com problemas cardíacos.\n",
        "Considere a base como a população, portanto as estatísticas da população\n",
        "são conhecidas. Responda as perguntas abaixo:\n",
        "3. Considerando uma amostra de 45 números que representam o index do\n",
        "dataframe, índices= ([909, 751, 402, 400, 726, 39, 184, 269, 255, 769,\n",
        "209, 715, 677, 381, 793, 697, 89, 280, 232, 756, 358, 36, 439, 768, 967,\n",
        "699, 473, 222, 89, 639, 883, 558, 757, 84, 907, 895, 217, 224, 311, 348,\n",
        "146, 505, 273, 957, 362]). Considerando essa amostra é possível dizer\n",
        "que a idade média das pessoas com problemas cardíacos é maior que\n",
        "50 anos? Nível de significância igual a 5%"
      ],
      "metadata": {
        "id": "VmDaQuL7huzS"
      }
    },
    {
      "cell_type": "code",
      "source": [
        "df_pacientes = pd.read_csv('pacientes.csv')\n",
        "df_pacientes"
      ],
      "metadata": {
        "colab": {
          "base_uri": "https://localhost:8080/",
          "height": 423
        },
        "id": "umkj_ZoddqOm",
        "outputId": "1eb41ba7-19b3-451a-d91d-4f45f46ff7a5"
      },
      "execution_count": 8,
      "outputs": [
        {
          "output_type": "execute_result",
          "data": {
            "text/plain": [
              "     Unnamed: 0  Pressao_Arterial  Idade  Genero  Etnia  Estado_Saude  \\\n",
              "0             0        142.755809     31       1      1             1   \n",
              "1             1        161.878468     35       1      1             0   \n",
              "2             2        161.508259     39       0      3             1   \n",
              "3             3        144.979408     43       1      3             1   \n",
              "4             4        162.502954     55       0      2             1   \n",
              "..          ...               ...    ...     ...    ...           ...   \n",
              "995         995        136.381404     58       1      0             1   \n",
              "996         996        161.801012     41       0      3             1   \n",
              "997         997        134.390624     70       0      0             0   \n",
              "998         998        160.818609     33       1      0             0   \n",
              "999         999        159.877549     49       0      1             0   \n",
              "\n",
              "    Nome_Genero      Nome_Etnia                  Nome_Estado_Saude  \n",
              "0      Feminino  Afro-americano  Com condições de saúde adicionais  \n",
              "1      Feminino  Afro-americano                           Saudável  \n",
              "2     Masculino        Asiático  Com condições de saúde adicionais  \n",
              "3      Feminino        Asiático  Com condições de saúde adicionais  \n",
              "4     Masculino       Hispânico  Com condições de saúde adicionais  \n",
              "..          ...             ...                                ...  \n",
              "995    Feminino      Caucasiano  Com condições de saúde adicionais  \n",
              "996   Masculino        Asiático  Com condições de saúde adicionais  \n",
              "997   Masculino      Caucasiano                           Saudável  \n",
              "998    Feminino      Caucasiano                           Saudável  \n",
              "999   Masculino  Afro-americano                           Saudável  \n",
              "\n",
              "[1000 rows x 9 columns]"
            ],
            "text/html": [
              "\n",
              "  <div id=\"df-6f1bdcc6-448d-4ec6-a8fb-365b5e763e1b\" class=\"colab-df-container\">\n",
              "    <div>\n",
              "<style scoped>\n",
              "    .dataframe tbody tr th:only-of-type {\n",
              "        vertical-align: middle;\n",
              "    }\n",
              "\n",
              "    .dataframe tbody tr th {\n",
              "        vertical-align: top;\n",
              "    }\n",
              "\n",
              "    .dataframe thead th {\n",
              "        text-align: right;\n",
              "    }\n",
              "</style>\n",
              "<table border=\"1\" class=\"dataframe\">\n",
              "  <thead>\n",
              "    <tr style=\"text-align: right;\">\n",
              "      <th></th>\n",
              "      <th>Unnamed: 0</th>\n",
              "      <th>Pressao_Arterial</th>\n",
              "      <th>Idade</th>\n",
              "      <th>Genero</th>\n",
              "      <th>Etnia</th>\n",
              "      <th>Estado_Saude</th>\n",
              "      <th>Nome_Genero</th>\n",
              "      <th>Nome_Etnia</th>\n",
              "      <th>Nome_Estado_Saude</th>\n",
              "    </tr>\n",
              "  </thead>\n",
              "  <tbody>\n",
              "    <tr>\n",
              "      <th>0</th>\n",
              "      <td>0</td>\n",
              "      <td>142.755809</td>\n",
              "      <td>31</td>\n",
              "      <td>1</td>\n",
              "      <td>1</td>\n",
              "      <td>1</td>\n",
              "      <td>Feminino</td>\n",
              "      <td>Afro-americano</td>\n",
              "      <td>Com condições de saúde adicionais</td>\n",
              "    </tr>\n",
              "    <tr>\n",
              "      <th>1</th>\n",
              "      <td>1</td>\n",
              "      <td>161.878468</td>\n",
              "      <td>35</td>\n",
              "      <td>1</td>\n",
              "      <td>1</td>\n",
              "      <td>0</td>\n",
              "      <td>Feminino</td>\n",
              "      <td>Afro-americano</td>\n",
              "      <td>Saudável</td>\n",
              "    </tr>\n",
              "    <tr>\n",
              "      <th>2</th>\n",
              "      <td>2</td>\n",
              "      <td>161.508259</td>\n",
              "      <td>39</td>\n",
              "      <td>0</td>\n",
              "      <td>3</td>\n",
              "      <td>1</td>\n",
              "      <td>Masculino</td>\n",
              "      <td>Asiático</td>\n",
              "      <td>Com condições de saúde adicionais</td>\n",
              "    </tr>\n",
              "    <tr>\n",
              "      <th>3</th>\n",
              "      <td>3</td>\n",
              "      <td>144.979408</td>\n",
              "      <td>43</td>\n",
              "      <td>1</td>\n",
              "      <td>3</td>\n",
              "      <td>1</td>\n",
              "      <td>Feminino</td>\n",
              "      <td>Asiático</td>\n",
              "      <td>Com condições de saúde adicionais</td>\n",
              "    </tr>\n",
              "    <tr>\n",
              "      <th>4</th>\n",
              "      <td>4</td>\n",
              "      <td>162.502954</td>\n",
              "      <td>55</td>\n",
              "      <td>0</td>\n",
              "      <td>2</td>\n",
              "      <td>1</td>\n",
              "      <td>Masculino</td>\n",
              "      <td>Hispânico</td>\n",
              "      <td>Com condições de saúde adicionais</td>\n",
              "    </tr>\n",
              "    <tr>\n",
              "      <th>...</th>\n",
              "      <td>...</td>\n",
              "      <td>...</td>\n",
              "      <td>...</td>\n",
              "      <td>...</td>\n",
              "      <td>...</td>\n",
              "      <td>...</td>\n",
              "      <td>...</td>\n",
              "      <td>...</td>\n",
              "      <td>...</td>\n",
              "    </tr>\n",
              "    <tr>\n",
              "      <th>995</th>\n",
              "      <td>995</td>\n",
              "      <td>136.381404</td>\n",
              "      <td>58</td>\n",
              "      <td>1</td>\n",
              "      <td>0</td>\n",
              "      <td>1</td>\n",
              "      <td>Feminino</td>\n",
              "      <td>Caucasiano</td>\n",
              "      <td>Com condições de saúde adicionais</td>\n",
              "    </tr>\n",
              "    <tr>\n",
              "      <th>996</th>\n",
              "      <td>996</td>\n",
              "      <td>161.801012</td>\n",
              "      <td>41</td>\n",
              "      <td>0</td>\n",
              "      <td>3</td>\n",
              "      <td>1</td>\n",
              "      <td>Masculino</td>\n",
              "      <td>Asiático</td>\n",
              "      <td>Com condições de saúde adicionais</td>\n",
              "    </tr>\n",
              "    <tr>\n",
              "      <th>997</th>\n",
              "      <td>997</td>\n",
              "      <td>134.390624</td>\n",
              "      <td>70</td>\n",
              "      <td>0</td>\n",
              "      <td>0</td>\n",
              "      <td>0</td>\n",
              "      <td>Masculino</td>\n",
              "      <td>Caucasiano</td>\n",
              "      <td>Saudável</td>\n",
              "    </tr>\n",
              "    <tr>\n",
              "      <th>998</th>\n",
              "      <td>998</td>\n",
              "      <td>160.818609</td>\n",
              "      <td>33</td>\n",
              "      <td>1</td>\n",
              "      <td>0</td>\n",
              "      <td>0</td>\n",
              "      <td>Feminino</td>\n",
              "      <td>Caucasiano</td>\n",
              "      <td>Saudável</td>\n",
              "    </tr>\n",
              "    <tr>\n",
              "      <th>999</th>\n",
              "      <td>999</td>\n",
              "      <td>159.877549</td>\n",
              "      <td>49</td>\n",
              "      <td>0</td>\n",
              "      <td>1</td>\n",
              "      <td>0</td>\n",
              "      <td>Masculino</td>\n",
              "      <td>Afro-americano</td>\n",
              "      <td>Saudável</td>\n",
              "    </tr>\n",
              "  </tbody>\n",
              "</table>\n",
              "<p>1000 rows × 9 columns</p>\n",
              "</div>\n",
              "    <div class=\"colab-df-buttons\">\n",
              "\n",
              "  <div class=\"colab-df-container\">\n",
              "    <button class=\"colab-df-convert\" onclick=\"convertToInteractive('df-6f1bdcc6-448d-4ec6-a8fb-365b5e763e1b')\"\n",
              "            title=\"Convert this dataframe to an interactive table.\"\n",
              "            style=\"display:none;\">\n",
              "\n",
              "  <svg xmlns=\"http://www.w3.org/2000/svg\" height=\"24px\" viewBox=\"0 -960 960 960\">\n",
              "    <path d=\"M120-120v-720h720v720H120Zm60-500h600v-160H180v160Zm220 220h160v-160H400v160Zm0 220h160v-160H400v160ZM180-400h160v-160H180v160Zm440 0h160v-160H620v160ZM180-180h160v-160H180v160Zm440 0h160v-160H620v160Z\"/>\n",
              "  </svg>\n",
              "    </button>\n",
              "\n",
              "  <style>\n",
              "    .colab-df-container {\n",
              "      display:flex;\n",
              "      gap: 12px;\n",
              "    }\n",
              "\n",
              "    .colab-df-convert {\n",
              "      background-color: #E8F0FE;\n",
              "      border: none;\n",
              "      border-radius: 50%;\n",
              "      cursor: pointer;\n",
              "      display: none;\n",
              "      fill: #1967D2;\n",
              "      height: 32px;\n",
              "      padding: 0 0 0 0;\n",
              "      width: 32px;\n",
              "    }\n",
              "\n",
              "    .colab-df-convert:hover {\n",
              "      background-color: #E2EBFA;\n",
              "      box-shadow: 0px 1px 2px rgba(60, 64, 67, 0.3), 0px 1px 3px 1px rgba(60, 64, 67, 0.15);\n",
              "      fill: #174EA6;\n",
              "    }\n",
              "\n",
              "    .colab-df-buttons div {\n",
              "      margin-bottom: 4px;\n",
              "    }\n",
              "\n",
              "    [theme=dark] .colab-df-convert {\n",
              "      background-color: #3B4455;\n",
              "      fill: #D2E3FC;\n",
              "    }\n",
              "\n",
              "    [theme=dark] .colab-df-convert:hover {\n",
              "      background-color: #434B5C;\n",
              "      box-shadow: 0px 1px 3px 1px rgba(0, 0, 0, 0.15);\n",
              "      filter: drop-shadow(0px 1px 2px rgba(0, 0, 0, 0.3));\n",
              "      fill: #FFFFFF;\n",
              "    }\n",
              "  </style>\n",
              "\n",
              "    <script>\n",
              "      const buttonEl =\n",
              "        document.querySelector('#df-6f1bdcc6-448d-4ec6-a8fb-365b5e763e1b button.colab-df-convert');\n",
              "      buttonEl.style.display =\n",
              "        google.colab.kernel.accessAllowed ? 'block' : 'none';\n",
              "\n",
              "      async function convertToInteractive(key) {\n",
              "        const element = document.querySelector('#df-6f1bdcc6-448d-4ec6-a8fb-365b5e763e1b');\n",
              "        const dataTable =\n",
              "          await google.colab.kernel.invokeFunction('convertToInteractive',\n",
              "                                                    [key], {});\n",
              "        if (!dataTable) return;\n",
              "\n",
              "        const docLinkHtml = 'Like what you see? Visit the ' +\n",
              "          '<a target=\"_blank\" href=https://colab.research.google.com/notebooks/data_table.ipynb>data table notebook</a>'\n",
              "          + ' to learn more about interactive tables.';\n",
              "        element.innerHTML = '';\n",
              "        dataTable['output_type'] = 'display_data';\n",
              "        await google.colab.output.renderOutput(dataTable, element);\n",
              "        const docLink = document.createElement('div');\n",
              "        docLink.innerHTML = docLinkHtml;\n",
              "        element.appendChild(docLink);\n",
              "      }\n",
              "    </script>\n",
              "  </div>\n",
              "\n",
              "\n",
              "<div id=\"df-000f6697-b2cd-4091-a8ab-6c3661ff4768\">\n",
              "  <button class=\"colab-df-quickchart\" onclick=\"quickchart('df-000f6697-b2cd-4091-a8ab-6c3661ff4768')\"\n",
              "            title=\"Suggest charts\"\n",
              "            style=\"display:none;\">\n",
              "\n",
              "<svg xmlns=\"http://www.w3.org/2000/svg\" height=\"24px\"viewBox=\"0 0 24 24\"\n",
              "     width=\"24px\">\n",
              "    <g>\n",
              "        <path d=\"M19 3H5c-1.1 0-2 .9-2 2v14c0 1.1.9 2 2 2h14c1.1 0 2-.9 2-2V5c0-1.1-.9-2-2-2zM9 17H7v-7h2v7zm4 0h-2V7h2v10zm4 0h-2v-4h2v4z\"/>\n",
              "    </g>\n",
              "</svg>\n",
              "  </button>\n",
              "\n",
              "<style>\n",
              "  .colab-df-quickchart {\n",
              "      --bg-color: #E8F0FE;\n",
              "      --fill-color: #1967D2;\n",
              "      --hover-bg-color: #E2EBFA;\n",
              "      --hover-fill-color: #174EA6;\n",
              "      --disabled-fill-color: #AAA;\n",
              "      --disabled-bg-color: #DDD;\n",
              "  }\n",
              "\n",
              "  [theme=dark] .colab-df-quickchart {\n",
              "      --bg-color: #3B4455;\n",
              "      --fill-color: #D2E3FC;\n",
              "      --hover-bg-color: #434B5C;\n",
              "      --hover-fill-color: #FFFFFF;\n",
              "      --disabled-bg-color: #3B4455;\n",
              "      --disabled-fill-color: #666;\n",
              "  }\n",
              "\n",
              "  .colab-df-quickchart {\n",
              "    background-color: var(--bg-color);\n",
              "    border: none;\n",
              "    border-radius: 50%;\n",
              "    cursor: pointer;\n",
              "    display: none;\n",
              "    fill: var(--fill-color);\n",
              "    height: 32px;\n",
              "    padding: 0;\n",
              "    width: 32px;\n",
              "  }\n",
              "\n",
              "  .colab-df-quickchart:hover {\n",
              "    background-color: var(--hover-bg-color);\n",
              "    box-shadow: 0 1px 2px rgba(60, 64, 67, 0.3), 0 1px 3px 1px rgba(60, 64, 67, 0.15);\n",
              "    fill: var(--button-hover-fill-color);\n",
              "  }\n",
              "\n",
              "  .colab-df-quickchart-complete:disabled,\n",
              "  .colab-df-quickchart-complete:disabled:hover {\n",
              "    background-color: var(--disabled-bg-color);\n",
              "    fill: var(--disabled-fill-color);\n",
              "    box-shadow: none;\n",
              "  }\n",
              "\n",
              "  .colab-df-spinner {\n",
              "    border: 2px solid var(--fill-color);\n",
              "    border-color: transparent;\n",
              "    border-bottom-color: var(--fill-color);\n",
              "    animation:\n",
              "      spin 1s steps(1) infinite;\n",
              "  }\n",
              "\n",
              "  @keyframes spin {\n",
              "    0% {\n",
              "      border-color: transparent;\n",
              "      border-bottom-color: var(--fill-color);\n",
              "      border-left-color: var(--fill-color);\n",
              "    }\n",
              "    20% {\n",
              "      border-color: transparent;\n",
              "      border-left-color: var(--fill-color);\n",
              "      border-top-color: var(--fill-color);\n",
              "    }\n",
              "    30% {\n",
              "      border-color: transparent;\n",
              "      border-left-color: var(--fill-color);\n",
              "      border-top-color: var(--fill-color);\n",
              "      border-right-color: var(--fill-color);\n",
              "    }\n",
              "    40% {\n",
              "      border-color: transparent;\n",
              "      border-right-color: var(--fill-color);\n",
              "      border-top-color: var(--fill-color);\n",
              "    }\n",
              "    60% {\n",
              "      border-color: transparent;\n",
              "      border-right-color: var(--fill-color);\n",
              "    }\n",
              "    80% {\n",
              "      border-color: transparent;\n",
              "      border-right-color: var(--fill-color);\n",
              "      border-bottom-color: var(--fill-color);\n",
              "    }\n",
              "    90% {\n",
              "      border-color: transparent;\n",
              "      border-bottom-color: var(--fill-color);\n",
              "    }\n",
              "  }\n",
              "</style>\n",
              "\n",
              "  <script>\n",
              "    async function quickchart(key) {\n",
              "      const quickchartButtonEl =\n",
              "        document.querySelector('#' + key + ' button');\n",
              "      quickchartButtonEl.disabled = true;  // To prevent multiple clicks.\n",
              "      quickchartButtonEl.classList.add('colab-df-spinner');\n",
              "      try {\n",
              "        const charts = await google.colab.kernel.invokeFunction(\n",
              "            'suggestCharts', [key], {});\n",
              "      } catch (error) {\n",
              "        console.error('Error during call to suggestCharts:', error);\n",
              "      }\n",
              "      quickchartButtonEl.classList.remove('colab-df-spinner');\n",
              "      quickchartButtonEl.classList.add('colab-df-quickchart-complete');\n",
              "    }\n",
              "    (() => {\n",
              "      let quickchartButtonEl =\n",
              "        document.querySelector('#df-000f6697-b2cd-4091-a8ab-6c3661ff4768 button');\n",
              "      quickchartButtonEl.style.display =\n",
              "        google.colab.kernel.accessAllowed ? 'block' : 'none';\n",
              "    })();\n",
              "  </script>\n",
              "</div>\n",
              "\n",
              "  <div id=\"id_007fbd0d-6337-4d55-94a3-8fc056cac34e\">\n",
              "    <style>\n",
              "      .colab-df-generate {\n",
              "        background-color: #E8F0FE;\n",
              "        border: none;\n",
              "        border-radius: 50%;\n",
              "        cursor: pointer;\n",
              "        display: none;\n",
              "        fill: #1967D2;\n",
              "        height: 32px;\n",
              "        padding: 0 0 0 0;\n",
              "        width: 32px;\n",
              "      }\n",
              "\n",
              "      .colab-df-generate:hover {\n",
              "        background-color: #E2EBFA;\n",
              "        box-shadow: 0px 1px 2px rgba(60, 64, 67, 0.3), 0px 1px 3px 1px rgba(60, 64, 67, 0.15);\n",
              "        fill: #174EA6;\n",
              "      }\n",
              "\n",
              "      [theme=dark] .colab-df-generate {\n",
              "        background-color: #3B4455;\n",
              "        fill: #D2E3FC;\n",
              "      }\n",
              "\n",
              "      [theme=dark] .colab-df-generate:hover {\n",
              "        background-color: #434B5C;\n",
              "        box-shadow: 0px 1px 3px 1px rgba(0, 0, 0, 0.15);\n",
              "        filter: drop-shadow(0px 1px 2px rgba(0, 0, 0, 0.3));\n",
              "        fill: #FFFFFF;\n",
              "      }\n",
              "    </style>\n",
              "    <button class=\"colab-df-generate\" onclick=\"generateWithVariable('df_pacientes')\"\n",
              "            title=\"Generate code using this dataframe.\"\n",
              "            style=\"display:none;\">\n",
              "\n",
              "  <svg xmlns=\"http://www.w3.org/2000/svg\" height=\"24px\"viewBox=\"0 0 24 24\"\n",
              "       width=\"24px\">\n",
              "    <path d=\"M7,19H8.4L18.45,9,17,7.55,7,17.6ZM5,21V16.75L18.45,3.32a2,2,0,0,1,2.83,0l1.4,1.43a1.91,1.91,0,0,1,.58,1.4,1.91,1.91,0,0,1-.58,1.4L9.25,21ZM18.45,9,17,7.55Zm-12,3A5.31,5.31,0,0,0,4.9,8.1,5.31,5.31,0,0,0,1,6.5,5.31,5.31,0,0,0,4.9,4.9,5.31,5.31,0,0,0,6.5,1,5.31,5.31,0,0,0,8.1,4.9,5.31,5.31,0,0,0,12,6.5,5.46,5.46,0,0,0,6.5,12Z\"/>\n",
              "  </svg>\n",
              "    </button>\n",
              "    <script>\n",
              "      (() => {\n",
              "      const buttonEl =\n",
              "        document.querySelector('#id_007fbd0d-6337-4d55-94a3-8fc056cac34e button.colab-df-generate');\n",
              "      buttonEl.style.display =\n",
              "        google.colab.kernel.accessAllowed ? 'block' : 'none';\n",
              "\n",
              "      buttonEl.onclick = () => {\n",
              "        google.colab.notebook.generateWithVariable('df_pacientes');\n",
              "      }\n",
              "      })();\n",
              "    </script>\n",
              "  </div>\n",
              "\n",
              "    </div>\n",
              "  </div>\n"
            ],
            "application/vnd.google.colaboratory.intrinsic+json": {
              "type": "dataframe",
              "variable_name": "df_pacientes",
              "summary": "{\n  \"name\": \"df_pacientes\",\n  \"rows\": 1000,\n  \"fields\": [\n    {\n      \"column\": \"Unnamed: 0\",\n      \"properties\": {\n        \"dtype\": \"number\",\n        \"std\": 288,\n        \"min\": 0,\n        \"max\": 999,\n        \"num_unique_values\": 1000,\n        \"samples\": [\n          521,\n          737,\n          740\n        ],\n        \"semantic_type\": \"\",\n        \"description\": \"\"\n      }\n    },\n    {\n      \"column\": \"Pressao_Arterial\",\n      \"properties\": {\n        \"dtype\": \"number\",\n        \"std\": 9.943612581359622,\n        \"min\": 112.92982068924913,\n        \"max\": 181.80313088710068,\n        \"num_unique_values\": 1000,\n        \"samples\": [\n          152.04119412297098,\n          147.54391492523183,\n          168.8184130751253\n        ],\n        \"semantic_type\": \"\",\n        \"description\": \"\"\n      }\n    },\n    {\n      \"column\": \"Idade\",\n      \"properties\": {\n        \"dtype\": \"number\",\n        \"std\": 11,\n        \"min\": 30,\n        \"max\": 70,\n        \"num_unique_values\": 41,\n        \"samples\": [\n          30,\n          65,\n          57\n        ],\n        \"semantic_type\": \"\",\n        \"description\": \"\"\n      }\n    },\n    {\n      \"column\": \"Genero\",\n      \"properties\": {\n        \"dtype\": \"number\",\n        \"std\": 0,\n        \"min\": 0,\n        \"max\": 1,\n        \"num_unique_values\": 2,\n        \"samples\": [\n          0,\n          1\n        ],\n        \"semantic_type\": \"\",\n        \"description\": \"\"\n      }\n    },\n    {\n      \"column\": \"Etnia\",\n      \"properties\": {\n        \"dtype\": \"number\",\n        \"std\": 1,\n        \"min\": 0,\n        \"max\": 3,\n        \"num_unique_values\": 4,\n        \"samples\": [\n          3,\n          0\n        ],\n        \"semantic_type\": \"\",\n        \"description\": \"\"\n      }\n    },\n    {\n      \"column\": \"Estado_Saude\",\n      \"properties\": {\n        \"dtype\": \"number\",\n        \"std\": 0,\n        \"min\": 0,\n        \"max\": 1,\n        \"num_unique_values\": 2,\n        \"samples\": [\n          0,\n          1\n        ],\n        \"semantic_type\": \"\",\n        \"description\": \"\"\n      }\n    },\n    {\n      \"column\": \"Nome_Genero\",\n      \"properties\": {\n        \"dtype\": \"category\",\n        \"num_unique_values\": 2,\n        \"samples\": [\n          \"Masculino\",\n          \"Feminino\"\n        ],\n        \"semantic_type\": \"\",\n        \"description\": \"\"\n      }\n    },\n    {\n      \"column\": \"Nome_Etnia\",\n      \"properties\": {\n        \"dtype\": \"category\",\n        \"num_unique_values\": 4,\n        \"samples\": [\n          \"Asi\\u00e1tico\",\n          \"Caucasiano\"\n        ],\n        \"semantic_type\": \"\",\n        \"description\": \"\"\n      }\n    },\n    {\n      \"column\": \"Nome_Estado_Saude\",\n      \"properties\": {\n        \"dtype\": \"category\",\n        \"num_unique_values\": 2,\n        \"samples\": [\n          \"Saud\\u00e1vel\",\n          \"Com condi\\u00e7\\u00f5es de sa\\u00fade adicionais\"\n        ],\n        \"semantic_type\": \"\",\n        \"description\": \"\"\n      }\n    }\n  ]\n}"
            }
          },
          "metadata": {},
          "execution_count": 8
        }
      ]
    },
    {
      "cell_type": "code",
      "source": [
        "amostra = [909, 751, 402, 400, 726, 39, 184, 269, 255, 769,\n",
        "                   209, 715, 677, 381, 793, 697, 89, 280, 232, 756,\n",
        "                   358, 36, 439, 768, 967, 699, 473, 222, 89, 639,\n",
        "                   883, 558, 757, 84, 907, 895, 217, 224, 311, 348,\n",
        "                   146, 505, 273, 957, 362]\n",
        "media_idades_amostra = df_pacientes.loc[amostra]['Idade'].mean()\n",
        "print(\"Média das idades para a amostra selecionada:\", media_idades_amostra)"
      ],
      "metadata": {
        "colab": {
          "base_uri": "https://localhost:8080/"
        },
        "id": "4Hax1mEO8l0b",
        "outputId": "dde4f9c1-10eb-4e00-93a2-dcd285444abe"
      },
      "execution_count": 9,
      "outputs": [
        {
          "output_type": "stream",
          "name": "stdout",
          "text": [
            "Média das idades para a amostra selecionada: 50.08888888888889\n"
          ]
        }
      ]
    },
    {
      "cell_type": "code",
      "source": [
        "# Definindo o nível de significância\n",
        "alpha = 0.05\n",
        "\n",
        "# Valor crítico para o teste unilateral à direita\n",
        "valor_critico = stats.t.ppf(1 - alpha, len(amostra) - 1)\n",
        "\n",
        "# teste de hipótese\n",
        "t_statistic, p_value = stats.ttest_1samp(df_pacientes.loc[amostra]['Idade'], 50)\n",
        "\n",
        "# Verificando se rejeitamos a hipótese nula\n",
        "if t_statistic > valor_critico:\n",
        "    print(\"Rejeitamos a hipótese nula.\")\n",
        "    print(\"A média das idades é estatisticamente maior que 50 anos.\")\n",
        "else:\n",
        "    print(\"Não rejeitamos a hipótese nula.\")\n",
        "    print(\"Não há evidências suficientes para concluir que a média das idades é maior que 50 anos.\")\n",
        "\n",
        "# valor-p\n",
        "print(\"Valor-p:\", p_value)\n"
      ],
      "metadata": {
        "colab": {
          "base_uri": "https://localhost:8080/"
        },
        "id": "sawSF2Dc98XE",
        "outputId": "e0f24511-a1ef-490d-edab-bbd6eae1bf3c"
      },
      "execution_count": 10,
      "outputs": [
        {
          "output_type": "stream",
          "name": "stdout",
          "text": [
            "Não rejeitamos a hipótese nula.\n",
            "Não há evidências suficientes para concluir que a média das idades é maior que 50 anos.\n",
            "Valor-p: 0.9585414467632783\n"
          ]
        }
      ]
    },
    {
      "cell_type": "markdown",
      "source": [
        "4. Queremos entender que tipo de amostra estamos lidando se dividirmos\n",
        "os conjuntos em 2, sendo um com pessoas que têm condições de\n",
        "saúde adicionais e o outro com pessoas saudáveis. Seria dependente\n",
        "ou independente?"
      ],
      "metadata": {
        "id": "CB64dZtjdr09"
      }
    },
    {
      "cell_type": "code",
      "source": [
        "# Coletando os dados das amostras\n",
        "amostra_condicoes_adicionais = df_pacientes[df_pacientes['Estado_Saude'] == 1]['Idade']\n",
        "amostra_saudavel = df_pacientes[df_pacientes['Estado_Saude'] == 0]['Idade']\n",
        "\n",
        "# Verificando se as amostras são dependentes ou independentes\n",
        "if len(amostra_condicoes_adicionais) == len(amostra_saudavel):\n",
        "    print(\"As amostras são dependentes.\")\n",
        "else:\n",
        "    print(\"As amostras são independentes.\")\n"
      ],
      "metadata": {
        "id": "JUontvdbdsNF",
        "colab": {
          "base_uri": "https://localhost:8080/"
        },
        "outputId": "e6f57f6d-ae41-4eab-a32b-a52664a45e8e"
      },
      "execution_count": 11,
      "outputs": [
        {
          "output_type": "stream",
          "name": "stdout",
          "text": [
            "As amostras são independentes.\n"
          ]
        }
      ]
    },
    {
      "cell_type": "markdown",
      "source": [
        "5. Agora considere o um conjunto de pessoas aleatória que representam\n",
        "o index do dataframe, índices = ([690, 894, 67, 201, 364, 19, 60, 319,\n",
        "588, 643, 855, 623, 530, 174, 105, 693, 6, 462, 973, 607, 811, 346, 354,\n",
        "966, 943, 372]), podemos dizer que a pressão arterial média para\n",
        "pacientes com condições de saúde adicionais é igual à pressão arterial\n",
        "média para pacientes sem condições adicionais de saúde? Considere o\n",
        "nível de significância a 6%"
      ],
      "metadata": {
        "id": "rSDxgIaiduct"
      }
    },
    {
      "cell_type": "code",
      "source": [
        "indices = [690, 894, 67, 201, 364, 19, 60, 319, 588, 643, 855, 623, 530, 174, 105, 693, 6, 462, 973, 607, 811, 346, 354, 966, 943, 372]\n",
        "# Filtrando pacientes com condições de saúde adicionais e saudáveis\n",
        "pacientes_com_condicoes = df_pacientes[(df_pacientes['Unnamed: 0'].isin(indices)) & (df_pacientes['Estado_Saude'] == 1)]\n",
        "pacientes_saudaveis = df_pacientes[(df_pacientes['Unnamed: 0'].isin(indices)) & (df_pacientes['Estado_Saude'] == 0)]"
      ],
      "metadata": {
        "id": "lH75KuhYdwTW"
      },
      "execution_count": 12,
      "outputs": []
    },
    {
      "cell_type": "code",
      "source": [
        "# média da pressão arterial para pacientes com condições de saúde adicionais\n",
        "media_pa_com_condicoes = pacientes_com_condicoes['Pressao_Arterial'].mean()\n",
        "print('Media pacientes com condição', media_pa_com_condicoes)\n",
        "\n",
        "# média da pressão arterial para pacientes sem condições de saúde adicionais\n",
        "media_pa_sem_condicoes = pacientes_saudaveis['Pressao_Arterial'].mean()\n",
        "print('Media pacientes saudaveis', media_pa_sem_condicoes)\n"
      ],
      "metadata": {
        "colab": {
          "base_uri": "https://localhost:8080/"
        },
        "id": "YrII15nGOyab",
        "outputId": "b3ef5b7b-30d5-49ef-e051-285db23fc9cb"
      },
      "execution_count": 13,
      "outputs": [
        {
          "output_type": "stream",
          "name": "stdout",
          "text": [
            "Media pacientes com condição 153.1972544980592\n",
            "Media pacientes saudaveis 152.94305165531088\n"
          ]
        }
      ]
    },
    {
      "cell_type": "code",
      "source": [
        "# nível de significância\n",
        "alpha = 0.06\n",
        "\n",
        "# teste de hipótese\n",
        "t_statistic, p_value = stats.ttest_ind(pacientes_com_condicoes['Pressao_Arterial'],\n",
        "                                       pacientes_saudaveis['Pressao_Arterial'])\n",
        "\n",
        "# Verificando se rejeitamos a hipótese nula\n",
        "if p_value < alpha:\n",
        "    print(\"Rejeitamos a hipótese nula.\")\n",
        "    print(\"As médias da pressão arterial são estatisticamente diferentes.\")\n",
        "else:\n",
        "    print(\"Não rejeitamos a hipótese nula.\")\n",
        "    print(\"Não há evidências suficientes para concluir que as médias da pressão arterial são diferentes.\")\n",
        "\n",
        "# Exibindo o valor-p\n",
        "print(\"Valor-p:\", p_value)"
      ],
      "metadata": {
        "colab": {
          "base_uri": "https://localhost:8080/"
        },
        "id": "EiKrU43RQNyV",
        "outputId": "847774a3-4159-4bda-a6eb-b74ad3ce7163"
      },
      "execution_count": 17,
      "outputs": [
        {
          "output_type": "stream",
          "name": "stdout",
          "text": [
            "Não rejeitamos a hipótese nula.\n",
            "Não há evidências suficientes para concluir que as médias da pressão arterial são diferentes.\n",
            "Valor-p: 0.9359246016248557\n"
          ]
        }
      ]
    },
    {
      "cell_type": "markdown",
      "source": [
        "6. Existe uma diferença significativa na pressão arterial média entre\n",
        "diferentes grupos étnicos nesta população? (Teste ANOVA, alpha é 5%)\n",
        "a. Hipótese Nula (H0): A pressão arterial média é a mesma em todos\n",
        "os grupos étnicos.\n",
        "b. Hipótese Alternativa (H1): Há uma diferença significativa na\n",
        "pressão arterial média entre pelo menos dois grupos étnicos\n",
        "nesta população."
      ],
      "metadata": {
        "id": "aKyZMTGndyBV"
      }
    },
    {
      "cell_type": "code",
      "source": [
        "# Lista de etnias disponíveis\n",
        "etnias_disponiveis = df_pacientes['Nome_Etnia'].unique()\n",
        "etnias_disponiveis\n"
      ],
      "metadata": {
        "colab": {
          "base_uri": "https://localhost:8080/"
        },
        "id": "MEgK1oFZNfG8",
        "outputId": "6d13eb19-e5d4-4a4e-87a8-ad8b720d1e93"
      },
      "execution_count": 25,
      "outputs": [
        {
          "output_type": "execute_result",
          "data": {
            "text/plain": [
              "array(['Afro-americano', 'Asiático', 'Hispânico', 'Caucasiano'],\n",
              "      dtype=object)"
            ]
          },
          "metadata": {},
          "execution_count": 25
        }
      ]
    },
    {
      "cell_type": "code",
      "source": [
        "# teste ANOVA\n",
        "result = f_oneway(df_pacientes[df_pacientes['Nome_Etnia'] == 'Afro-americano']['Pressao_Arterial'],\n",
        "                  df_pacientes[df_pacientes['Nome_Etnia'] == 'Asiático']['Pressao_Arterial'],\n",
        "                  df_pacientes[df_pacientes['Nome_Etnia'] == 'Hispânico']['Pressao_Arterial'],\n",
        "                  df_pacientes[df_pacientes['Nome_Etnia'] == 'Caucasiano']['Pressao_Arterial'])\n",
        "\n",
        "print(\"Estatística F:\", result.statistic)\n",
        "print(\"Valor-p:\", result.pvalue)\n",
        "\n",
        "# resultados\n",
        "alpha = 0.05\n",
        "if result.pvalue < alpha:\n",
        "    print(\"Rejeitamos a hipótese nula.\")\n",
        "    print(\"Há uma diferença significativa na pressão arterial média entre pelo menos dois grupos étnicos.\")\n",
        "else:\n",
        "    print(\"Não rejeitamos a hipótese nula.\")\n",
        "    print(\"Não há evidências suficientes para concluir que há uma diferença significativa na pressão arterial média entre os grupos étnicos.\")\n"
      ],
      "metadata": {
        "id": "iewO7bu8dyhO",
        "colab": {
          "base_uri": "https://localhost:8080/"
        },
        "outputId": "942954b5-a2e3-4fde-a70f-c8ed0e710baf"
      },
      "execution_count": 30,
      "outputs": [
        {
          "output_type": "stream",
          "name": "stdout",
          "text": [
            "Estatística F: 0.23245296261596837\n",
            "Valor-p: 0.873800123850745\n",
            "Não rejeitamos a hipótese nula.\n",
            "Não há evidências suficientes para concluir que há uma diferença significativa na pressão arterial média entre os grupos étnicos.\n"
          ]
        }
      ]
    },
    {
      "cell_type": "markdown",
      "source": [
        "7. Lúcia é uma pesquisadora e tem o objetivo de entender a relação de\n",
        "gênero neste grupo de pacientes. Acredita-se que há uma relação\n",
        "entre o sexo e condições de saúde adicionais. (Teste qui-quadrado)"
      ],
      "metadata": {
        "id": "DILndzu7d0EF"
      }
    },
    {
      "cell_type": "code",
      "source": [
        "# tabela de contingência\n",
        "contingency_table = pd.crosstab(df_pacientes['Genero'], df_pacientes['Estado_Saude'])\n",
        "\n",
        "# teste qui-quadrado\n",
        "chi2_stat, p_value, dof, expected = chi2_contingency(contingency_table)\n",
        "\n",
        "print(\"Estatística Qui-Quadrado:\", chi2_stat)\n",
        "print(\"Valor-p:\", p_value)\n",
        "\n",
        "# resultados\n",
        "alpha = 0.05\n",
        "if p_value < alpha:\n",
        "    print(\"Rejeitamos a hipótese nula.\")\n",
        "    print(\"Há uma relação significativa entre o sexo e as condições de saúde adicionais.\")\n",
        "else:\n",
        "    print(\"Não rejeitamos a hipótese nula.\")\n",
        "    print(\"Não há evidências suficientes para concluir que há uma relação significativa entre o sexo e as condições de saúde adicionais.\")"
      ],
      "metadata": {
        "id": "ewvToBaad0ZW",
        "colab": {
          "base_uri": "https://localhost:8080/"
        },
        "outputId": "5b05acfb-d618-409e-d30c-8f273241b1fa"
      },
      "execution_count": 29,
      "outputs": [
        {
          "output_type": "stream",
          "name": "stdout",
          "text": [
            "Estatística Qui-Quadrado: 0.0\n",
            "Valor-p: 1.0\n",
            "Não rejeitamos a hipótese nula.\n",
            "Não há evidências suficientes para concluir que há uma relação significativa entre o sexo e as condições de saúde adicionais.\n"
          ]
        }
      ]
    },
    {
      "cell_type": "markdown",
      "source": [
        "8. Existe uma associação entre a idade dos pacientes e sua pressão\n",
        "arterial?\n",
        "a. Hipótese Nula (H0): A idade dos pacientes é independente da\n",
        "pressão arterial.\n",
        "b. Hipótese Alternativa (H1): A idade dos pacientes está associada à\n",
        "sua pressão arterial.\n"
      ],
      "metadata": {
        "id": "O0cRxZ-Wd18W"
      }
    },
    {
      "cell_type": "code",
      "source": [
        "# coeficiente de correlação de Pearson e o valor-p\n",
        "corr_coeff, p_value = pearsonr(df_pacientes['Idade'], df_pacientes['Pressao_Arterial'])\n",
        "\n",
        "print(\"Coeficiente de correlação de Pearson:\", corr_coeff)\n",
        "print(\"Valor-p:\", p_value)\n",
        "\n",
        "# resultados\n",
        "alpha = 0.05\n",
        "if p_value < alpha:\n",
        "    print(\"Rejeitamos a hipótese nula.\")\n",
        "    print(\"Existe uma associação significativa entre a idade dos pacientes e sua pressão arterial.\")\n",
        "else:\n",
        "    print(\"Não rejeitamos a hipótese nula.\")\n",
        "    print(\"Não há evidências suficientes\")"
      ],
      "metadata": {
        "id": "dBEAUBysd2O9",
        "colab": {
          "base_uri": "https://localhost:8080/"
        },
        "outputId": "4f6e7be4-de80-4e67-94b6-0b94658fea30"
      },
      "execution_count": 32,
      "outputs": [
        {
          "output_type": "stream",
          "name": "stdout",
          "text": [
            "Coeficiente de correlação de Pearson: -0.021385356934648977\n",
            "Valor-p: 0.4993608212055476\n",
            "Não rejeitamos a hipótese nula.\n",
            "Não há evidências suficientes\n"
          ]
        }
      ]
    },
    {
      "cell_type": "markdown",
      "source": [
        "9. Qual é o intervalo de confiança para a média da pressão arterial entre\n",
        "os pacientes com condições de saúde adicionais? (nível de confiança\n",
        "95%)"
      ],
      "metadata": {
        "id": "utdvsas5d3VW"
      }
    },
    {
      "cell_type": "code",
      "source": [
        "# pacientes com condições de saúde adicionais\n",
        "pacientes_com_condicoes = df_pacientes[df_pacientes['Nome_Estado_Saude'] == 'Com condições de saúde adicionais']['Pressao_Arterial']\n",
        "\n",
        "# média e o desvio padrão\n",
        "mean = pacientes_com_condicoes.mean()\n",
        "std_dev = pacientes_com_condicoes.std()\n",
        "\n",
        "# Tamanho da amostra\n",
        "n = len(pacientes_com_condicoes)\n",
        "\n",
        "# Graus de liberdade\n",
        "df = n - 1\n",
        "\n",
        "# Nível de confiança\n",
        "confidence_level = 0.95\n",
        "\n",
        "# erro padrão\n",
        "std_err = std_dev / (n ** 0.5)\n",
        "\n",
        "# valor crítico da distribuição t de Student\n",
        "t_critical = t.ppf((1 + confidence_level) / 2, df)\n",
        "\n",
        "# intervalo de confiança\n",
        "margin_of_error = t_critical * std_err\n",
        "lower_bound = mean - margin_of_error\n",
        "upper_bound = mean + margin_of_error\n",
        "\n",
        "print(\"Intervalo de Confiança para a Média da Pressão Arterial (95% de confiança):\")\n",
        "print(\"Média da Pressão Arterial:\", mean)\n",
        "print(\"Erro Padrão:\", std_err)\n",
        "print(\"Valor Crítico da Distribuição t de Student:\", t_critical)\n",
        "print(\"Margem de Erro:\", margin_of_error)\n",
        "print(\"Intervalo de Confiança:\", (lower_bound, upper_bound))"
      ],
      "metadata": {
        "id": "YdPUrv0Bd3qF",
        "colab": {
          "base_uri": "https://localhost:8080/"
        },
        "outputId": "56eb3441-f2c8-4c31-ac90-8259de1446f9"
      },
      "execution_count": 42,
      "outputs": [
        {
          "output_type": "stream",
          "name": "stdout",
          "text": [
            "Intervalo de Confiança para a Média da Pressão Arterial (95% de confiança):\n",
            "Média da Pressão Arterial: 150.11845194515755\n",
            "Erro Padrão: 0.45745253316499107\n",
            "Valor Crítico da Distribuição t de Student: 1.9646355489631055\n",
            "Margem de Erro: 0.8987275086191655\n",
            "Intervalo de Confiança: (149.21972443653837, 151.01717945377672)\n"
          ]
        }
      ]
    },
    {
      "cell_type": "markdown",
      "source": [
        "10. A distribuição da pressão arterial na população segue uma distribuição\n",
        "normal?\n",
        "a. Hipótese Nula (H0): A distribuição da pressão arterial na\n",
        "população segue uma distribuição normal.\n",
        "b. Hipótese Alternativa (H1): A distribuição da pressão arterial na\n",
        "população não segue uma distribuição normal."
      ],
      "metadata": {
        "id": "FcmVuEbxd5Om"
      }
    },
    {
      "cell_type": "code",
      "source": [
        "# Executando o teste de normalidade de Kolmogorov-Smirnov\n",
        "kstest_result = kstest(df_pacientes['Pressao_Arterial'], 'norm')\n",
        "\n",
        "print(\"Estatística do Teste de Kolmogorov-Smirnov:\", kstest_result.statistic)\n",
        "print(\"Valor-p:\", kstest_result.pvalue)\n",
        "\n",
        "# resultados\n",
        "alpha = 0.05\n",
        "if kstest_result.pvalue < alpha:\n",
        "    print(\"Rejeitamos a hipótese nula.\")\n",
        "    print(\"A distribuição da pressão arterial na população não segue uma distribuição normal.\")\n",
        "else:\n",
        "    print(\"Não rejeitamos a hipótese nula.\")\n",
        "    print(\"Não há evidências suficientes.\")"
      ],
      "metadata": {
        "id": "bXjuHzJ-d50l",
        "colab": {
          "base_uri": "https://localhost:8080/"
        },
        "outputId": "4a7c5911-d9a4-4a6d-f4cd-740520b451fa"
      },
      "execution_count": 45,
      "outputs": [
        {
          "output_type": "stream",
          "name": "stdout",
          "text": [
            "Estatística do Teste de Kolmogorov-Smirnov: 1.0\n",
            "Valor-p: 0.0\n",
            "Rejeitamos a hipótese nula.\n",
            "A distribuição da pressão arterial na população não segue uma distribuição normal.\n"
          ]
        }
      ]
    }
  ]
}