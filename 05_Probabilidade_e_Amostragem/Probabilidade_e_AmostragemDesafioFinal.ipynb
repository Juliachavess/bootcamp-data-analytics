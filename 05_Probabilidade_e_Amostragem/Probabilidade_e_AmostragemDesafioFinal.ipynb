{
  "nbformat": 4,
  "nbformat_minor": 0,
  "metadata": {
    "colab": {
      "provenance": []
    },
    "kernelspec": {
      "name": "python3",
      "display_name": "Python 3"
    },
    "language_info": {
      "name": "python"
    }
  },
  "cells": [
    {
      "cell_type": "code",
      "execution_count": null,
      "metadata": {
        "id": "l_oqF-JI7RSP"
      },
      "outputs": [],
      "source": [
        "import pandas as pd\n",
        "import numpy as np\n",
        "import matplotlib.pyplot as plt\n",
        "\n",
        "from scipy.stats import norm\n",
        "from scipy.stats import binom\n",
        "\n"
      ]
    },
    {
      "cell_type": "code",
      "source": [
        "df = pd.read_csv('populacao_brasileira.csv')\n",
        "df.head()"
      ],
      "metadata": {
        "colab": {
          "base_uri": "https://localhost:8080/",
          "height": 206
        },
        "id": "rpUrQwPd75gZ",
        "outputId": "584ec11a-6848-4ad4-c6e2-1b8ad7a744dc"
      },
      "execution_count": null,
      "outputs": [
        {
          "output_type": "execute_result",
          "data": {
            "text/plain": [
              "   Unnamed: 0 estado  idade escolaridade nível de proficiência em inglês  \\\n",
              "0           0     MA     56  Fundamental                   Intermediário   \n",
              "1           1     BA     46     Superior                          Básico   \n",
              "2           2     AM     32  Fundamental                   Intermediário   \n",
              "3           3     CE     60     Superior                          Básico   \n",
              "4           4     SE     25  Fundamental                        Avançado   \n",
              "\n",
              "     renda sexo  \n",
              "0  4006.29    F  \n",
              "1  2423.11    M  \n",
              "2  3835.69    M  \n",
              "3  1870.29    M  \n",
              "4  3529.80    M  "
            ],
            "text/html": [
              "\n",
              "  <div id=\"df-d7eb6b7f-80c6-4d6b-89fa-1bc80eb9b01f\" class=\"colab-df-container\">\n",
              "    <div>\n",
              "<style scoped>\n",
              "    .dataframe tbody tr th:only-of-type {\n",
              "        vertical-align: middle;\n",
              "    }\n",
              "\n",
              "    .dataframe tbody tr th {\n",
              "        vertical-align: top;\n",
              "    }\n",
              "\n",
              "    .dataframe thead th {\n",
              "        text-align: right;\n",
              "    }\n",
              "</style>\n",
              "<table border=\"1\" class=\"dataframe\">\n",
              "  <thead>\n",
              "    <tr style=\"text-align: right;\">\n",
              "      <th></th>\n",
              "      <th>Unnamed: 0</th>\n",
              "      <th>estado</th>\n",
              "      <th>idade</th>\n",
              "      <th>escolaridade</th>\n",
              "      <th>nível de proficiência em inglês</th>\n",
              "      <th>renda</th>\n",
              "      <th>sexo</th>\n",
              "    </tr>\n",
              "  </thead>\n",
              "  <tbody>\n",
              "    <tr>\n",
              "      <th>0</th>\n",
              "      <td>0</td>\n",
              "      <td>MA</td>\n",
              "      <td>56</td>\n",
              "      <td>Fundamental</td>\n",
              "      <td>Intermediário</td>\n",
              "      <td>4006.29</td>\n",
              "      <td>F</td>\n",
              "    </tr>\n",
              "    <tr>\n",
              "      <th>1</th>\n",
              "      <td>1</td>\n",
              "      <td>BA</td>\n",
              "      <td>46</td>\n",
              "      <td>Superior</td>\n",
              "      <td>Básico</td>\n",
              "      <td>2423.11</td>\n",
              "      <td>M</td>\n",
              "    </tr>\n",
              "    <tr>\n",
              "      <th>2</th>\n",
              "      <td>2</td>\n",
              "      <td>AM</td>\n",
              "      <td>32</td>\n",
              "      <td>Fundamental</td>\n",
              "      <td>Intermediário</td>\n",
              "      <td>3835.69</td>\n",
              "      <td>M</td>\n",
              "    </tr>\n",
              "    <tr>\n",
              "      <th>3</th>\n",
              "      <td>3</td>\n",
              "      <td>CE</td>\n",
              "      <td>60</td>\n",
              "      <td>Superior</td>\n",
              "      <td>Básico</td>\n",
              "      <td>1870.29</td>\n",
              "      <td>M</td>\n",
              "    </tr>\n",
              "    <tr>\n",
              "      <th>4</th>\n",
              "      <td>4</td>\n",
              "      <td>SE</td>\n",
              "      <td>25</td>\n",
              "      <td>Fundamental</td>\n",
              "      <td>Avançado</td>\n",
              "      <td>3529.80</td>\n",
              "      <td>M</td>\n",
              "    </tr>\n",
              "  </tbody>\n",
              "</table>\n",
              "</div>\n",
              "    <div class=\"colab-df-buttons\">\n",
              "\n",
              "  <div class=\"colab-df-container\">\n",
              "    <button class=\"colab-df-convert\" onclick=\"convertToInteractive('df-d7eb6b7f-80c6-4d6b-89fa-1bc80eb9b01f')\"\n",
              "            title=\"Convert this dataframe to an interactive table.\"\n",
              "            style=\"display:none;\">\n",
              "\n",
              "  <svg xmlns=\"http://www.w3.org/2000/svg\" height=\"24px\" viewBox=\"0 -960 960 960\">\n",
              "    <path d=\"M120-120v-720h720v720H120Zm60-500h600v-160H180v160Zm220 220h160v-160H400v160Zm0 220h160v-160H400v160ZM180-400h160v-160H180v160Zm440 0h160v-160H620v160ZM180-180h160v-160H180v160Zm440 0h160v-160H620v160Z\"/>\n",
              "  </svg>\n",
              "    </button>\n",
              "\n",
              "  <style>\n",
              "    .colab-df-container {\n",
              "      display:flex;\n",
              "      gap: 12px;\n",
              "    }\n",
              "\n",
              "    .colab-df-convert {\n",
              "      background-color: #E8F0FE;\n",
              "      border: none;\n",
              "      border-radius: 50%;\n",
              "      cursor: pointer;\n",
              "      display: none;\n",
              "      fill: #1967D2;\n",
              "      height: 32px;\n",
              "      padding: 0 0 0 0;\n",
              "      width: 32px;\n",
              "    }\n",
              "\n",
              "    .colab-df-convert:hover {\n",
              "      background-color: #E2EBFA;\n",
              "      box-shadow: 0px 1px 2px rgba(60, 64, 67, 0.3), 0px 1px 3px 1px rgba(60, 64, 67, 0.15);\n",
              "      fill: #174EA6;\n",
              "    }\n",
              "\n",
              "    .colab-df-buttons div {\n",
              "      margin-bottom: 4px;\n",
              "    }\n",
              "\n",
              "    [theme=dark] .colab-df-convert {\n",
              "      background-color: #3B4455;\n",
              "      fill: #D2E3FC;\n",
              "    }\n",
              "\n",
              "    [theme=dark] .colab-df-convert:hover {\n",
              "      background-color: #434B5C;\n",
              "      box-shadow: 0px 1px 3px 1px rgba(0, 0, 0, 0.15);\n",
              "      filter: drop-shadow(0px 1px 2px rgba(0, 0, 0, 0.3));\n",
              "      fill: #FFFFFF;\n",
              "    }\n",
              "  </style>\n",
              "\n",
              "    <script>\n",
              "      const buttonEl =\n",
              "        document.querySelector('#df-d7eb6b7f-80c6-4d6b-89fa-1bc80eb9b01f button.colab-df-convert');\n",
              "      buttonEl.style.display =\n",
              "        google.colab.kernel.accessAllowed ? 'block' : 'none';\n",
              "\n",
              "      async function convertToInteractive(key) {\n",
              "        const element = document.querySelector('#df-d7eb6b7f-80c6-4d6b-89fa-1bc80eb9b01f');\n",
              "        const dataTable =\n",
              "          await google.colab.kernel.invokeFunction('convertToInteractive',\n",
              "                                                    [key], {});\n",
              "        if (!dataTable) return;\n",
              "\n",
              "        const docLinkHtml = 'Like what you see? Visit the ' +\n",
              "          '<a target=\"_blank\" href=https://colab.research.google.com/notebooks/data_table.ipynb>data table notebook</a>'\n",
              "          + ' to learn more about interactive tables.';\n",
              "        element.innerHTML = '';\n",
              "        dataTable['output_type'] = 'display_data';\n",
              "        await google.colab.output.renderOutput(dataTable, element);\n",
              "        const docLink = document.createElement('div');\n",
              "        docLink.innerHTML = docLinkHtml;\n",
              "        element.appendChild(docLink);\n",
              "      }\n",
              "    </script>\n",
              "  </div>\n",
              "\n",
              "\n",
              "<div id=\"df-de220bf1-ad89-4a53-9074-d99634fb1b23\">\n",
              "  <button class=\"colab-df-quickchart\" onclick=\"quickchart('df-de220bf1-ad89-4a53-9074-d99634fb1b23')\"\n",
              "            title=\"Suggest charts\"\n",
              "            style=\"display:none;\">\n",
              "\n",
              "<svg xmlns=\"http://www.w3.org/2000/svg\" height=\"24px\"viewBox=\"0 0 24 24\"\n",
              "     width=\"24px\">\n",
              "    <g>\n",
              "        <path d=\"M19 3H5c-1.1 0-2 .9-2 2v14c0 1.1.9 2 2 2h14c1.1 0 2-.9 2-2V5c0-1.1-.9-2-2-2zM9 17H7v-7h2v7zm4 0h-2V7h2v10zm4 0h-2v-4h2v4z\"/>\n",
              "    </g>\n",
              "</svg>\n",
              "  </button>\n",
              "\n",
              "<style>\n",
              "  .colab-df-quickchart {\n",
              "      --bg-color: #E8F0FE;\n",
              "      --fill-color: #1967D2;\n",
              "      --hover-bg-color: #E2EBFA;\n",
              "      --hover-fill-color: #174EA6;\n",
              "      --disabled-fill-color: #AAA;\n",
              "      --disabled-bg-color: #DDD;\n",
              "  }\n",
              "\n",
              "  [theme=dark] .colab-df-quickchart {\n",
              "      --bg-color: #3B4455;\n",
              "      --fill-color: #D2E3FC;\n",
              "      --hover-bg-color: #434B5C;\n",
              "      --hover-fill-color: #FFFFFF;\n",
              "      --disabled-bg-color: #3B4455;\n",
              "      --disabled-fill-color: #666;\n",
              "  }\n",
              "\n",
              "  .colab-df-quickchart {\n",
              "    background-color: var(--bg-color);\n",
              "    border: none;\n",
              "    border-radius: 50%;\n",
              "    cursor: pointer;\n",
              "    display: none;\n",
              "    fill: var(--fill-color);\n",
              "    height: 32px;\n",
              "    padding: 0;\n",
              "    width: 32px;\n",
              "  }\n",
              "\n",
              "  .colab-df-quickchart:hover {\n",
              "    background-color: var(--hover-bg-color);\n",
              "    box-shadow: 0 1px 2px rgba(60, 64, 67, 0.3), 0 1px 3px 1px rgba(60, 64, 67, 0.15);\n",
              "    fill: var(--button-hover-fill-color);\n",
              "  }\n",
              "\n",
              "  .colab-df-quickchart-complete:disabled,\n",
              "  .colab-df-quickchart-complete:disabled:hover {\n",
              "    background-color: var(--disabled-bg-color);\n",
              "    fill: var(--disabled-fill-color);\n",
              "    box-shadow: none;\n",
              "  }\n",
              "\n",
              "  .colab-df-spinner {\n",
              "    border: 2px solid var(--fill-color);\n",
              "    border-color: transparent;\n",
              "    border-bottom-color: var(--fill-color);\n",
              "    animation:\n",
              "      spin 1s steps(1) infinite;\n",
              "  }\n",
              "\n",
              "  @keyframes spin {\n",
              "    0% {\n",
              "      border-color: transparent;\n",
              "      border-bottom-color: var(--fill-color);\n",
              "      border-left-color: var(--fill-color);\n",
              "    }\n",
              "    20% {\n",
              "      border-color: transparent;\n",
              "      border-left-color: var(--fill-color);\n",
              "      border-top-color: var(--fill-color);\n",
              "    }\n",
              "    30% {\n",
              "      border-color: transparent;\n",
              "      border-left-color: var(--fill-color);\n",
              "      border-top-color: var(--fill-color);\n",
              "      border-right-color: var(--fill-color);\n",
              "    }\n",
              "    40% {\n",
              "      border-color: transparent;\n",
              "      border-right-color: var(--fill-color);\n",
              "      border-top-color: var(--fill-color);\n",
              "    }\n",
              "    60% {\n",
              "      border-color: transparent;\n",
              "      border-right-color: var(--fill-color);\n",
              "    }\n",
              "    80% {\n",
              "      border-color: transparent;\n",
              "      border-right-color: var(--fill-color);\n",
              "      border-bottom-color: var(--fill-color);\n",
              "    }\n",
              "    90% {\n",
              "      border-color: transparent;\n",
              "      border-bottom-color: var(--fill-color);\n",
              "    }\n",
              "  }\n",
              "</style>\n",
              "\n",
              "  <script>\n",
              "    async function quickchart(key) {\n",
              "      const quickchartButtonEl =\n",
              "        document.querySelector('#' + key + ' button');\n",
              "      quickchartButtonEl.disabled = true;  // To prevent multiple clicks.\n",
              "      quickchartButtonEl.classList.add('colab-df-spinner');\n",
              "      try {\n",
              "        const charts = await google.colab.kernel.invokeFunction(\n",
              "            'suggestCharts', [key], {});\n",
              "      } catch (error) {\n",
              "        console.error('Error during call to suggestCharts:', error);\n",
              "      }\n",
              "      quickchartButtonEl.classList.remove('colab-df-spinner');\n",
              "      quickchartButtonEl.classList.add('colab-df-quickchart-complete');\n",
              "    }\n",
              "    (() => {\n",
              "      let quickchartButtonEl =\n",
              "        document.querySelector('#df-de220bf1-ad89-4a53-9074-d99634fb1b23 button');\n",
              "      quickchartButtonEl.style.display =\n",
              "        google.colab.kernel.accessAllowed ? 'block' : 'none';\n",
              "    })();\n",
              "  </script>\n",
              "</div>\n",
              "\n",
              "    </div>\n",
              "  </div>\n"
            ],
            "application/vnd.google.colaboratory.intrinsic+json": {
              "type": "dataframe",
              "variable_name": "df",
              "summary": "{\n  \"name\": \"df\",\n  \"rows\": 1000,\n  \"fields\": [\n    {\n      \"column\": \"Unnamed: 0\",\n      \"properties\": {\n        \"dtype\": \"number\",\n        \"std\": 288,\n        \"min\": 0,\n        \"max\": 999,\n        \"num_unique_values\": 1000,\n        \"samples\": [\n          521,\n          737,\n          740\n        ],\n        \"semantic_type\": \"\",\n        \"description\": \"\"\n      }\n    },\n    {\n      \"column\": \"estado\",\n      \"properties\": {\n        \"dtype\": \"category\",\n        \"num_unique_values\": 27,\n        \"samples\": [\n          \"AC\",\n          \"PA\",\n          \"SC\"\n        ],\n        \"semantic_type\": \"\",\n        \"description\": \"\"\n      }\n    },\n    {\n      \"column\": \"idade\",\n      \"properties\": {\n        \"dtype\": \"number\",\n        \"std\": 13,\n        \"min\": 18,\n        \"max\": 64,\n        \"num_unique_values\": 47,\n        \"samples\": [\n          24,\n          48,\n          54\n        ],\n        \"semantic_type\": \"\",\n        \"description\": \"\"\n      }\n    },\n    {\n      \"column\": \"escolaridade\",\n      \"properties\": {\n        \"dtype\": \"category\",\n        \"num_unique_values\": 4,\n        \"samples\": [\n          \"Superior\",\n          \"P\\u00f3s-gradua\\u00e7\\u00e3o\",\n          \"Fundamental\"\n        ],\n        \"semantic_type\": \"\",\n        \"description\": \"\"\n      }\n    },\n    {\n      \"column\": \"n\\u00edvel de profici\\u00eancia em ingl\\u00eas\",\n      \"properties\": {\n        \"dtype\": \"category\",\n        \"num_unique_values\": 3,\n        \"samples\": [\n          \"Intermedi\\u00e1rio\",\n          \"B\\u00e1sico\",\n          \"Avan\\u00e7ado\"\n        ],\n        \"semantic_type\": \"\",\n        \"description\": \"\"\n      }\n    },\n    {\n      \"column\": \"renda\",\n      \"properties\": {\n        \"dtype\": \"number\",\n        \"std\": 996.572239312141,\n        \"min\": 103.74,\n        \"max\": 5632.38,\n        \"num_unique_values\": 998,\n        \"samples\": [\n          2752.82,\n          4218.76,\n          2244.62\n        ],\n        \"semantic_type\": \"\",\n        \"description\": \"\"\n      }\n    },\n    {\n      \"column\": \"sexo\",\n      \"properties\": {\n        \"dtype\": \"category\",\n        \"num_unique_values\": 2,\n        \"samples\": [\n          \"M\",\n          \"F\"\n        ],\n        \"semantic_type\": \"\",\n        \"description\": \"\"\n      }\n    }\n  ]\n}"
            }
          },
          "metadata": {},
          "execution_count": 3
        }
      ]
    },
    {
      "cell_type": "code",
      "source": [
        "df.shape"
      ],
      "metadata": {
        "colab": {
          "base_uri": "https://localhost:8080/"
        },
        "id": "B_x_634j8NOa",
        "outputId": "e6a60967-5d39-4f86-beb6-8c0690241f59"
      },
      "execution_count": null,
      "outputs": [
        {
          "output_type": "execute_result",
          "data": {
            "text/plain": [
              "(1000, 7)"
            ]
          },
          "metadata": {},
          "execution_count": 4
        }
      ]
    },
    {
      "cell_type": "code",
      "source": [
        "df.estado.unique()"
      ],
      "metadata": {
        "colab": {
          "base_uri": "https://localhost:8080/"
        },
        "id": "4K3Ev2yfEbS8",
        "outputId": "8b69b06c-b1c2-4a3f-c212-6f8be3fe4846"
      },
      "execution_count": null,
      "outputs": [
        {
          "output_type": "execute_result",
          "data": {
            "text/plain": [
              "array(['MA', 'BA', 'AM', 'CE', 'SE', 'DF', 'PI', 'AP', 'AC', 'SC', 'SP',\n",
              "       'GO', 'RO', 'PA', 'MS', 'RN', 'RS', 'RR', 'PR', 'MG', 'MT', 'TO',\n",
              "       'PB', 'PE', 'RJ', 'AL', 'ES'], dtype=object)"
            ]
          },
          "metadata": {},
          "execution_count": 5
        }
      ]
    },
    {
      "cell_type": "code",
      "source": [
        "df.escolaridade.unique()"
      ],
      "metadata": {
        "colab": {
          "base_uri": "https://localhost:8080/"
        },
        "id": "5YGR21dGLEgL",
        "outputId": "2491d210-c743-4bb0-ed77-d2f3c340b6a1"
      },
      "execution_count": null,
      "outputs": [
        {
          "output_type": "execute_result",
          "data": {
            "text/plain": [
              "array(['Fundamental', 'Superior', 'Médio', 'Pós-graduação'], dtype=object)"
            ]
          },
          "metadata": {},
          "execution_count": 6
        }
      ]
    },
    {
      "cell_type": "code",
      "source": [
        "df.renda.max()"
      ],
      "metadata": {
        "colab": {
          "base_uri": "https://localhost:8080/"
        },
        "id": "BhpOEONYWbYy",
        "outputId": "2bc5908c-89a6-43a3-c0a3-8ea9c0c7d9da"
      },
      "execution_count": null,
      "outputs": [
        {
          "output_type": "execute_result",
          "data": {
            "text/plain": [
              "5632.38"
            ]
          },
          "metadata": {},
          "execution_count": 7
        }
      ]
    },
    {
      "cell_type": "markdown",
      "source": [
        "1.Considere pessoas fluentes em inglês, qual a probabilidade\n",
        "complementar? Ou seja, qual a probabilidade de escolhermos uma\n",
        "pessoa aleatória e ela não ser fluente em inglês. Considere fluente\n",
        "quem tem o nível avançado."
      ],
      "metadata": {
        "id": "GOr6SDFZ9nuD"
      }
    },
    {
      "cell_type": "code",
      "source": [
        "# Contando o número de pessoas que sejam diferente de avançado\n",
        "nao_fluentes = df[df['nível de proficiência em inglês'] != 'Avançado'].shape[0]\n",
        "\n",
        "# Calculando o total de pessoas\n",
        "total_pessoas = df.shape[0]\n",
        "\n",
        "# Calculando a probabilidade complementar\n",
        "probab_complementar = nao_fluentes / total_pessoas\n",
        "\n",
        "print(\"Probabilidade complementar de escolher uma pessoa não fluente em inglês:\", probab_complementar)\n"
      ],
      "metadata": {
        "colab": {
          "base_uri": "https://localhost:8080/"
        },
        "id": "qIiolUtn9YNi",
        "outputId": "4e9def1e-350b-40ac-cbc1-043b3fa2b6dd"
      },
      "execution_count": null,
      "outputs": [
        {
          "output_type": "stream",
          "name": "stdout",
          "text": [
            "Probabilidade complementar de escolher uma pessoa não fluente em inglês: 0.656\n"
          ]
        }
      ]
    },
    {
      "cell_type": "markdown",
      "source": [
        "2. Se uma pessoa escolhida aleatoriamente for de Alagoas ou do Pará,\n",
        "qual é a probabilidade de ela ter uma renda superior a 5 mil reais?"
      ],
      "metadata": {
        "id": "sKdogWW0DgnN"
      }
    },
    {
      "cell_type": "code",
      "source": [
        "# Filtrar apenas Alagoas ou Pará\n",
        "alagoas_para = df[(df['estado'] == 'AL') | (df['estado'] == 'PA')]\n",
        "\n",
        "# Pessoas com renda superior a 5 mil\n",
        "renda_superior_5mil = alagoas_para[alagoas_para['renda'] > 5000].shape[0]\n",
        "\n",
        "# Calculando o total de pessoas de Alagoas ou Pará\n",
        "total_pessoas_subconjunto = alagoas_para.shape[0]\n",
        "\n",
        "# Calculando a probabilidade\n",
        "probabilidade = renda_superior_5mil / total_pessoas_subconjunto\n",
        "\n",
        "print(\"Probabilidade de uma pessoa de Alagoas ou Pará ter renda superior a 5 mil reais:\", probabilidade)\n"
      ],
      "metadata": {
        "colab": {
          "base_uri": "https://localhost:8080/"
        },
        "id": "kACr3zjjDhm1",
        "outputId": "ab1d1e20-8819-4955-b9bd-0bbef8dcf3eb"
      },
      "execution_count": null,
      "outputs": [
        {
          "output_type": "stream",
          "name": "stdout",
          "text": [
            "Probabilidade de uma pessoa de Alagoas ou Pará ter renda superior a 5 mil reais: 0.05063291139240506\n"
          ]
        }
      ]
    },
    {
      "cell_type": "markdown",
      "source": [
        "3. Descubra a probabilidade de uma pessoa ter ensino superior completo\n",
        "no estado do Amazonas. Qual a probabilidade da quinta pessoa que\n",
        "você conversar, que é amazonense, ter ensino superior completo?"
      ],
      "metadata": {
        "id": "P0XT5v5hJWIH"
      }
    },
    {
      "cell_type": "code",
      "source": [
        "# Filtrar o DataFrame para incluir apenas o estado do Amazonas\n",
        "amazonas_df = df[df['estado'] == 'AM']\n",
        "\n",
        "# Contar o número total de pessoas no DataFrame\n",
        "total_pessoas = df.shape[0]\n",
        "\n",
        "# Contar o número total de pessoas amazonenses no DataFrame\n",
        "total_amazonas = amazonas_df.shape[0]\n",
        "\n",
        "# Probabilidade de escolher uma pessoa amazonense\n",
        "probabilidade_amazonas = total_amazonas / total_pessoas\n",
        "\n",
        "# Probabilidade de uma pessoa amazonense ter ensino superior completo\n",
        "probabilidade_superior = amazonas_df[(amazonas_df['escolaridade'] == 'Superior') | (amazonas_df['escolaridade'] == 'Pós-graduação')].shape[0] / total_amazonas\n",
        "\n",
        "# Probabilidade da quinta pessoa que você conversar, que é amazonense, ter ensino superior completo\n",
        "probabilidade_quinta_pessoa = probabilidade_amazonas * probabilidade_superior\n",
        "\n",
        "print(\"Probabilidade da quinta pessoa que você conversar, que é amazonense, ter ensino superior completo:\", probabilidade_quinta_pessoa)\n"
      ],
      "metadata": {
        "colab": {
          "base_uri": "https://localhost:8080/"
        },
        "id": "rAAyYgvEPaH1",
        "outputId": "c69b5216-bcc0-4f5f-ac07-1ddbd6f66eb4"
      },
      "execution_count": null,
      "outputs": [
        {
          "output_type": "stream",
          "name": "stdout",
          "text": [
            "Probabilidade da quinta pessoa que você conversar, que é amazonense, ter ensino superior completo: 0.021\n"
          ]
        }
      ]
    },
    {
      "cell_type": "markdown",
      "source": [
        "4. Considerando a renda das pessoas do nosso conjunto, podemos dizer\n",
        "que a renda de uma pessoa brasileira está na sua maioria em que faixa\n",
        "(faça faixa de 1.500 reais)? Qual é a sua função densidade de\n",
        "probabilidade?"
      ],
      "metadata": {
        "id": "zwBHnIB_Qp-a"
      }
    },
    {
      "cell_type": "code",
      "source": [
        "# Definindo os intervalos\n",
        "intervalo_renda = 1500\n",
        "\n",
        "# Criando os intervalos\n",
        "faixas_renda = range(0, int(df['renda'].max()) + intervalo_renda, intervalo_renda)\n",
        "\n",
        "# Contando o número de pessoas em cada faixa de renda\n",
        "contagem_por_faixa = pd.cut(df['renda'], bins=faixas_renda).value_counts().sort_index()\n",
        "\n",
        "# Calculando a proporção de pessoas em cada faixa de renda\n",
        "proporcao_por_faixa = contagem_por_faixa / len(df)\n",
        "\n",
        "# Encontrando a faixa com o maior número de pessoas\n",
        "faixa_mais_comum = proporcao_por_faixa.idxmax()\n",
        "\n",
        "# Plotando o histograma da renda\n",
        "plt.figure(figsize=(8, 3))\n",
        "plt.bar(proporcao_por_faixa.index.astype(str), proporcao_por_faixa, width=0.8, color='skyblue')\n",
        "plt.xlabel('Faixa de Renda com intervalos de R$ 1500')\n",
        "plt.ylabel('Proporção de Pessoas')\n",
        "plt.title('Distribuição de Renda')\n",
        "plt.grid(axis='y', linestyle='-', alpha=0.3)\n",
        "plt.tight_layout()\n",
        "plt.show()\n",
        "\n",
        "print(\"A faixa mais comum de renda é:\", faixa_mais_comum)\n",
        "\n",
        "# Calculando a função densidade de probabilidade (PDF)\n",
        "pdf = proporcao_por_faixa / intervalo_renda\n",
        "\n",
        "print(\"\\nFunção Densidade de Probabilidade (PDF) da Renda:\")\n",
        "print(pdf)\n"
      ],
      "metadata": {
        "colab": {
          "base_uri": "https://localhost:8080/",
          "height": 453
        },
        "id": "RYUR1Mx7QrAo",
        "outputId": "74584a64-169f-42de-e5d9-77784b470b52"
      },
      "execution_count": null,
      "outputs": [
        {
          "output_type": "display_data",
          "data": {
            "text/plain": [
              "<Figure size 800x300 with 1 Axes>"
            ],
            "image/png": "[encoded data removed]"
          },
          "metadata": {}
        },
        {
          "output_type": "stream",
          "name": "stdout",
          "text": [
            "A faixa mais comum de renda é: (3000, 4500]\n",
            "\n",
            "Função Densidade de Probabilidade (PDF) da Renda:\n",
            "(0, 1500]       0.000037\n",
            "(1500, 3000]    0.000276\n",
            "(3000, 4500]    0.000295\n",
            "(4500, 6000]    0.000059\n",
            "Name: renda, dtype: float64\n"
          ]
        }
      ]
    },
    {
      "cell_type": "markdown",
      "source": [
        "5. Calcule a média e a variância da renda da amostra. Depois faça a\n",
        "distribuição normal, inclua o gráfico."
      ],
      "metadata": {
        "id": "SLN2FGGxdLIp"
      }
    },
    {
      "cell_type": "code",
      "source": [
        "media_renda = df.renda.mean()\n",
        "media_renda"
      ],
      "metadata": {
        "colab": {
          "base_uri": "https://localhost:8080/"
        },
        "id": "MqUp1TufQzkC",
        "outputId": "3b520449-103f-4266-c07f-c5fa9346ed5b"
      },
      "execution_count": null,
      "outputs": [
        {
          "output_type": "execute_result",
          "data": {
            "text/plain": [
              "3082.5371800000003"
            ]
          },
          "metadata": {},
          "execution_count": 12
        }
      ]
    },
    {
      "cell_type": "code",
      "source": [
        "var_renda = df.renda.var()\n",
        "var_renda"
      ],
      "metadata": {
        "id": "lziw4jarQ5mp",
        "outputId": "8f658ab5-294a-44c0-f4af-664de572e3e4",
        "colab": {
          "base_uri": "https://localhost:8080/"
        }
      },
      "execution_count": null,
      "outputs": [
        {
          "output_type": "execute_result",
          "data": {
            "text/plain": [
              "993156.2281676152"
            ]
          },
          "metadata": {},
          "execution_count": 13
        }
      ]
    },
    {
      "cell_type": "code",
      "source": [
        "print(\"Média da renda da amostra:\", media_renda)\n",
        "print(\"Variância da renda da amostra:\", var_renda)\n",
        "# Criando a distribuição normal\n",
        "renda_min = df['renda'].min()\n",
        "renda_max = df['renda'].max()\n",
        "x = np.linspace(renda_min, renda_max, 1000)\n",
        "pdf = norm.pdf(x, loc=media_renda, scale=np.sqrt(var_renda))\n",
        "\n",
        "# Plotando o gráfico da distribuição normal\n",
        "plt.figure(figsize=(5, 3))\n",
        "plt.plot(x, pdf, label='Distribuição Normal')\n",
        "plt.title('Distribuição Normal da Renda')\n",
        "plt.xlabel('Renda')\n",
        "plt.ylabel('Densidade de Probabilidade')\n",
        "plt.grid(True)\n",
        "plt.show()"
      ],
      "metadata": {
        "colab": {
          "base_uri": "https://localhost:8080/",
          "height": 370
        },
        "id": "3mXQrt_OdLwn",
        "outputId": "6dcb750b-b2b5-41fc-98ee-80d268375656"
      },
      "execution_count": null,
      "outputs": [
        {
          "output_type": "stream",
          "name": "stdout",
          "text": [
            "Média da renda da amostra: 3082.5371800000003\n",
            "Variância da renda da amostra: 993156.2281676152\n"
          ]
        },
        {
          "output_type": "display_data",
          "data": {
            "text/plain": [
              "<Figure size 500x300 with 1 Axes>"
            ],
            "image/png": "[encoded data removed]"
          },
          "metadata": {}
        }
      ]
    },
    {
      "cell_type": "markdown",
      "source": [
        "6. Primeiro considere a probabilidade encontrada no nosso conjunto de\n",
        "pessoas com escolaridade de pós-graduação. Considerando a amostra\n",
        "de população brasileira com 1 milhão de habitantes, qual a\n",
        "probabilidade de encontrarmos 243 mil pessoas com pós-graduação?"
      ],
      "metadata": {
        "id": "qosrTMv3RbJI"
      }
    },
    {
      "cell_type": "code",
      "source": [
        "total_pessoas = len(df)\n",
        "total_pessoas"
      ],
      "metadata": {
        "colab": {
          "base_uri": "https://localhost:8080/"
        },
        "id": "OBc6vh5GAfVX",
        "outputId": "b00aadd7-abaf-4c98-d0e4-e72e3e7ce42c"
      },
      "execution_count": null,
      "outputs": [
        {
          "output_type": "execute_result",
          "data": {
            "text/plain": [
              "1000"
            ]
          },
          "metadata": {},
          "execution_count": 16
        }
      ]
    },
    {
      "cell_type": "code",
      "source": [
        "pos_grad_count = len(df[df['escolaridade'] == 'Pós-graduação'])\n",
        "pos_grad_count"
      ],
      "metadata": {
        "colab": {
          "base_uri": "https://localhost:8080/"
        },
        "id": "zM2qaPxdAnxf",
        "outputId": "225b4434-1362-4c57-d231-fe3ba5c59661"
      },
      "execution_count": null,
      "outputs": [
        {
          "output_type": "execute_result",
          "data": {
            "text/plain": [
              "253"
            ]
          },
          "metadata": {},
          "execution_count": 17
        }
      ]
    },
    {
      "cell_type": "code",
      "source": [
        "# Proporção de pessoas com pós-graduação\n",
        "prop_pos_grad = pos_grad_count / total_pessoas\n",
        "prop_pos_grad"
      ],
      "metadata": {
        "colab": {
          "base_uri": "https://localhost:8080/"
        },
        "id": "L2Oromg-As2_",
        "outputId": "fab302a6-d8d2-4279-f95a-a49968354ffe"
      },
      "execution_count": null,
      "outputs": [
        {
          "output_type": "execute_result",
          "data": {
            "text/plain": [
              "0.253"
            ]
          },
          "metadata": {},
          "execution_count": 18
        }
      ]
    },
    {
      "cell_type": "code",
      "source": [
        "# Probabilidade de encontrar 243 mil pessoas com pós-graduação em uma amostra de 1 milhão de habitantes\n",
        "total_populacao = 1000000\n",
        "pessoas_pos_grad = 243000\n",
        "\n",
        "probabilidade = prop_pos_grad ** pessoas_pos_grad * (1 - prop_pos_grad) ** (total_populacao - pessoas_pos_grad)\n",
        "\n",
        "print(\"Probabilidade:\", probabilidade)\n"
      ],
      "metadata": {
        "id": "KkwGhLEcRb1W",
        "colab": {
          "base_uri": "https://localhost:8080/"
        },
        "outputId": "b2a30c94-8b49-471f-9306-fd6d217bf759"
      },
      "execution_count": null,
      "outputs": [
        {
          "output_type": "stream",
          "name": "stdout",
          "text": [
            "Probabilidade: 0.0\n"
          ]
        }
      ]
    },
    {
      "cell_type": "markdown",
      "source": [
        "7. Somando as densidades nós temos a função de densidade acumulada.\n",
        "Considerando a coluna ‘Escolaridade’ faça a função de densidade\n",
        "acumulada discreta para cada nível de escolaridade."
      ],
      "metadata": {
        "id": "j-Q6XN-EBtkv"
      }
    },
    {
      "cell_type": "code",
      "source": [
        "# Contagem de ocorrências\n",
        "contagem_escolaridade = df['escolaridade'].value_counts()\n",
        "\n",
        "# Ordenando\n",
        "niveis_escolaridade = contagem_escolaridade.index.tolist()\n",
        "\n",
        "# Proporção acumulada\n",
        "densidade_acumulada = []\n",
        "total = contagem_escolaridade.sum()\n",
        "cumulative_sum = 0\n",
        "for nivel in niveis_escolaridade:\n",
        "    count = contagem_escolaridade[nivel]\n",
        "    cumulative_sum += count\n",
        "    densidade_acumulada.append(cumulative_sum / total)\n",
        "\n",
        "# Criar um DataFrame com os resultados\n",
        "df_densidade_acumulada = pd.DataFrame({\n",
        "    'Nível de Escolaridade': niveis_escolaridade,\n",
        "    'Densidade Acumulada': densidade_acumulada\n",
        "})\n",
        "\n",
        "print(df_densidade_acumulada)\n"
      ],
      "metadata": {
        "colab": {
          "base_uri": "https://localhost:8080/"
        },
        "id": "ATOnD8ohBuWO",
        "outputId": "32c0c379-7fcd-42f4-e2c0-a967fa2806b7"
      },
      "execution_count": null,
      "outputs": [
        {
          "output_type": "stream",
          "name": "stdout",
          "text": [
            "  Nível de Escolaridade  Densidade Acumulada\n",
            "0           Fundamental                0.266\n",
            "1         Pós-graduação                0.519\n",
            "2              Superior                0.762\n",
            "3                 Médio                1.000\n"
          ]
        }
      ]
    },
    {
      "cell_type": "markdown",
      "source": [
        "8. Qual a margem de erro amostral da proporção populacional\n",
        "considerando a proporção de pessoas com nível de inglês\n",
        "intermediário?"
      ],
      "metadata": {
        "id": "V4ihSTWpCVhh"
      }
    },
    {
      "cell_type": "code",
      "source": [
        "# Proporção - nível de inglês intermediário\n",
        "prop_intermediario = len(df[df['nível de proficiência em inglês'] == 'Intermediário']) / len(df)\n",
        "prop_intermediario"
      ],
      "metadata": {
        "colab": {
          "base_uri": "https://localhost:8080/"
        },
        "id": "G4CemzFfDZV9",
        "outputId": "4d1b4b10-a21c-4fbb-d207-07213ecd4dc3"
      },
      "execution_count": null,
      "outputs": [
        {
          "output_type": "execute_result",
          "data": {
            "text/plain": [
              "0.329"
            ]
          },
          "metadata": {},
          "execution_count": 22
        }
      ]
    },
    {
      "cell_type": "code",
      "source": [
        "# Tamanho da amostra\n",
        "n = len(df)\n",
        "\n",
        "# Nível de confiança\n",
        "confianca = 0.95\n",
        "\n",
        "# Valor crítico correspondente ao nível de confiança\n",
        "z = 1.96  # para 95% de confiança\n",
        "\n",
        "# Calculando a margem de erro amostral\n",
        "margem_erro = z * np.sqrt((prop_intermediario * (1 - prop_intermediario)) / n)\n",
        "\n",
        "print(\"Margem de erro amostral:\", margem_erro)\n"
      ],
      "metadata": {
        "colab": {
          "base_uri": "https://localhost:8080/"
        },
        "id": "gbH3cgNrCWEI",
        "outputId": "1a8b2bb4-2194-43cc-ceff-b92b87591135"
      },
      "execution_count": null,
      "outputs": [
        {
          "output_type": "stream",
          "name": "stdout",
          "text": [
            "Margem de erro amostral: 0.029121603225097343\n"
          ]
        }
      ]
    },
    {
      "cell_type": "markdown",
      "source": [
        "9. Calcula a renda da população. Qual a probabilidade de encontrar 60\n",
        "pessoas com uma renda mil reais superior à média?"
      ],
      "metadata": {
        "id": "SphbufPQDhCX"
      }
    },
    {
      "cell_type": "code",
      "source": [
        "media_renda = df['renda'].mean()\n",
        "media_renda"
      ],
      "metadata": {
        "colab": {
          "base_uri": "https://localhost:8080/"
        },
        "id": "yrlbNU4CDjPP",
        "outputId": "afbb589b-b9b8-40c1-ef43-8a58cfe0b431"
      },
      "execution_count": null,
      "outputs": [
        {
          "output_type": "execute_result",
          "data": {
            "text/plain": [
              "3082.5371800000003"
            ]
          },
          "metadata": {},
          "execution_count": 24
        }
      ]
    },
    {
      "cell_type": "code",
      "source": [
        "# Número de pessoas na população\n",
        "n_populacao = len(df)\n",
        "\n",
        "# Número de pessoas com renda mil reais superior à média\n",
        "n_superior_media = 60\n",
        "\n",
        "# Probabilidade de uma pessoa ter renda mil reais superior à média\n",
        "probabilidade_individual = len(df[df['renda'] > media_renda + 1000]) / n_populacao\n",
        "\n",
        "# Calculando a probabilidade usando a distribuição binomial\n",
        "probabilidade = binom.pmf(n_superior_media, n_populacao, probabilidade_individual)\n",
        "probabilidade"
      ],
      "metadata": {
        "colab": {
          "base_uri": "https://localhost:8080/"
        },
        "id": "4OCcANc_D5e-",
        "outputId": "780506f9-54ce-4a92-883c-d91c76c7b320"
      },
      "execution_count": null,
      "outputs": [
        {
          "output_type": "execute_result",
          "data": {
            "text/plain": [
              "1.099520565163774e-22"
            ]
          },
          "metadata": {},
          "execution_count": 27
        }
      ]
    },
    {
      "cell_type": "markdown",
      "source": [
        "10. Qual a probabilidade de escolhermos alguém do Sudeste que seja\n",
        "homem, com ensino fundamental e com renda maior que 2 mil reais por\n",
        "mês?"
      ],
      "metadata": {
        "id": "OhO8jtn8EPiX"
      }
    },
    {
      "cell_type": "code",
      "source": [
        "# Filtrando o DataFrame\n",
        "filtro = (df['estado'].isin(['SP', 'RJ', 'ES', 'MG'])) & (df['sexo'] == 'M') & (df['escolaridade'] == 'Fundamental') & (df['renda'] > 2000)\n",
        "pessoas_sudeste_homem_fundamental_renda_maior_2mil = df[filtro]\n"
      ],
      "metadata": {
        "id": "k3xlgBkhEQSm"
      },
      "execution_count": null,
      "outputs": []
    },
    {
      "cell_type": "code",
      "source": [
        "# Contagem de pessoas que atendem aos critérios\n",
        "num_pessoas_atendem_critérios = len(pessoas_sudeste_homem_fundamental_renda_maior_2mil)\n",
        "num_pessoas_atendem_critérios"
      ],
      "metadata": {
        "colab": {
          "base_uri": "https://localhost:8080/"
        },
        "id": "opvTiVGhEqAX",
        "outputId": "fc283e2c-8482-484b-9c30-0558e8e11a47"
      },
      "execution_count": null,
      "outputs": [
        {
          "output_type": "execute_result",
          "data": {
            "text/plain": [
              "19"
            ]
          },
          "metadata": {},
          "execution_count": 31
        }
      ]
    },
    {
      "cell_type": "code",
      "source": [
        "# Contagem de pessoas no Sudeste\n",
        "num_pessoas_sudeste = len(df[df['estado'].isin(['SP', 'RJ', 'ES', 'MG'])])\n",
        "\n",
        "# Probabilidade de escolher alguém do Sudeste que seja homem, com ensino fundamental e com renda maior que 2 mil reais por mês\n",
        "probabilidade = num_pessoas_atendem_critérios / num_pessoas_sudeste\n",
        "\n",
        "print(\"Probabilidade:\", probabilidade)\n"
      ],
      "metadata": {
        "colab": {
          "base_uri": "https://localhost:8080/"
        },
        "id": "2z-bZejEEcHY",
        "outputId": "cdd97412-3f9a-4ec9-f0b0-b786fe6cae7c"
      },
      "execution_count": null,
      "outputs": [
        {
          "output_type": "stream",
          "name": "stdout",
          "text": [
            "Probabilidade: 0.12101910828025478\n"
          ]
        }
      ]
    }
  ]
}